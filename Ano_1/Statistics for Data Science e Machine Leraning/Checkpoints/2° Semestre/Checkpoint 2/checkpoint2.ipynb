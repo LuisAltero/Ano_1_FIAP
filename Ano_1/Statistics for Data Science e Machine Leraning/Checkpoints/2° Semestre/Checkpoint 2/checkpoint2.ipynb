{
  "nbformat": 4,
  "nbformat_minor": 0,
  "metadata": {
    "colab": {
      "name": "checkpoint2.ipynb",
      "provenance": [],
      "collapsed_sections": []
    },
    "kernelspec": {
      "name": "python3",
      "display_name": "Python 3"
    },
    "language_info": {
      "name": "python"
    }
  },
  "cells": [
    {
      "cell_type": "markdown",
      "metadata": {
        "id": "Ip-ln7NoTna0"
      },
      "source": [
        "# Checkpoint 2 - Análise Covid Brasil"
      ]
    },
    {
      "cell_type": "markdown",
      "metadata": {
        "id": "amL0aL-QT3X4"
      },
      "source": [
        "## Carregar módulos"
      ]
    },
    {
      "cell_type": "code",
      "metadata": {
        "id": "dy4tAdLXT3c3"
      },
      "source": [
        "import numpy as np\n",
        "import pandas as pd"
      ],
      "execution_count": null,
      "outputs": []
    },
    {
      "cell_type": "markdown",
      "metadata": {
        "id": "-4a8IgMBT3gr"
      },
      "source": [
        "## Carregar dados"
      ]
    },
    {
      "cell_type": "markdown",
      "metadata": {
        "id": "VnfWrvXjQ-ZU"
      },
      "source": [
        "- Dados Covid Brasil"
      ]
    },
    {
      "cell_type": "code",
      "metadata": {
        "colab": {
          "base_uri": "https://localhost:8080/"
        },
        "id": "bfb7qKtta_8T",
        "outputId": "32230fa4-e1d8-4e41-d34f-722afc1ee79d"
      },
      "source": [
        "! wget --no-check-certificate --content-disposition 'https://github.com/wcota/covid19br/blob/master/cases-brazil-cities-time.csv.gz?raw=true'"
      ],
      "execution_count": null,
      "outputs": [
        {
          "output_type": "stream",
          "text": [
            "--2021-07-17 16:19:06--  https://github.com/wcota/covid19br/blob/master/cases-brazil-cities-time.csv.gz?raw=true\n",
            "Resolving github.com (github.com)... 140.82.114.4\n",
            "Connecting to github.com (github.com)|140.82.114.4|:443... connected.\n",
            "HTTP request sent, awaiting response... 302 Found\n",
            "Location: https://github.com/wcota/covid19br/raw/master/cases-brazil-cities-time.csv.gz [following]\n",
            "--2021-07-17 16:19:06--  https://github.com/wcota/covid19br/raw/master/cases-brazil-cities-time.csv.gz\n",
            "Reusing existing connection to github.com:443.\n",
            "HTTP request sent, awaiting response... 302 Found\n",
            "Location: https://raw.githubusercontent.com/wcota/covid19br/master/cases-brazil-cities-time.csv.gz [following]\n",
            "--2021-07-17 16:19:06--  https://raw.githubusercontent.com/wcota/covid19br/master/cases-brazil-cities-time.csv.gz\n",
            "Resolving raw.githubusercontent.com (raw.githubusercontent.com)... 185.199.108.133, 185.199.109.133, 185.199.110.133, ...\n",
            "Connecting to raw.githubusercontent.com (raw.githubusercontent.com)|185.199.108.133|:443... connected.\n",
            "HTTP request sent, awaiting response... 200 OK\n",
            "Length: 90098789 (86M) [application/octet-stream]\n",
            "Saving to: ‘cases-brazil-cities-time.csv.gz’\n",
            "\n",
            "cases-brazil-cities 100%[===================>]  85.92M   110MB/s    in 0.8s    \n",
            "\n",
            "2021-07-17 16:19:07 (110 MB/s) - ‘cases-brazil-cities-time.csv.gz’ saved [90098789/90098789]\n",
            "\n"
          ],
          "name": "stdout"
        }
      ]
    },
    {
      "cell_type": "code",
      "metadata": {
        "id": "O0cvZDFOb3mL"
      },
      "source": [
        "! gunzip cases-brazil-cities-time.csv.gz"
      ],
      "execution_count": null,
      "outputs": []
    },
    {
      "cell_type": "code",
      "metadata": {
        "id": "GWy73yd4aadf"
      },
      "source": [
        "dados_brasil = pd.read_csv('cases-brazil-cities-time.csv')"
      ],
      "execution_count": null,
      "outputs": []
    },
    {
      "cell_type": "markdown",
      "metadata": {
        "id": "y4rLc7DmRTsb"
      },
      "source": [
        "- Dados censo"
      ]
    },
    {
      "cell_type": "code",
      "metadata": {
        "id": "IAfG_wH6RTxz"
      },
      "source": [
        "dados_censo = pd.read_csv('dados_municipios_2010.csv', sep = ';', decimal = ',', encoding = 'latin1')"
      ],
      "execution_count": null,
      "outputs": []
    },
    {
      "cell_type": "markdown",
      "metadata": {
        "id": "WltBdBdIYGHG"
      },
      "source": [
        "## Ajustar dados"
      ]
    },
    {
      "cell_type": "code",
      "metadata": {
        "id": "Q8pEkZrzT32V"
      },
      "source": [
        "max_date = max(dados_brasil['date'])"
      ],
      "execution_count": null,
      "outputs": []
    },
    {
      "cell_type": "code",
      "metadata": {
        "id": "SSyzaKD5T36E"
      },
      "source": [
        "dados_brasil = dados_brasil[(dados_brasil['date'] == max_date) & \\\n",
        "                            (dados_brasil['state'] != 'TOTAL')]"
      ],
      "execution_count": null,
      "outputs": []
    },
    {
      "cell_type": "code",
      "metadata": {
        "id": "rWTG9vnTgi0J"
      },
      "source": [
        "cols = ['ibgeID', 'date', 'state', 'city', 'totalCases', 'deaths']"
      ],
      "execution_count": null,
      "outputs": []
    },
    {
      "cell_type": "code",
      "metadata": {
        "id": "MMDDAVCNgi3q"
      },
      "source": [
        "dados_brasil = dados_brasil[cols].reset_index(drop=True)"
      ],
      "execution_count": null,
      "outputs": []
    },
    {
      "cell_type": "markdown",
      "metadata": {
        "id": "vr1mYB46gi7i"
      },
      "source": [
        "## Aqui começa o trabalho"
      ]
    },
    {
      "cell_type": "code",
      "metadata": {
        "id": "LJBHPsrTgjCt"
      },
      "source": [
        ""
      ],
      "execution_count": null,
      "outputs": []
    },
    {
      "cell_type": "code",
      "metadata": {
        "id": "R2LLERRWiLLK"
      },
      "source": [
        ""
      ],
      "execution_count": null,
      "outputs": []
    },
    {
      "cell_type": "code",
      "metadata": {
        "id": "pAzkzB7ViLQz"
      },
      "source": [
        ""
      ],
      "execution_count": null,
      "outputs": []
    }
  ]
}