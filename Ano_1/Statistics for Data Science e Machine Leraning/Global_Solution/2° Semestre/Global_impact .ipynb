{
  "nbformat": 4,
  "nbformat_minor": 0,
  "metadata": {
    "colab": {
      "name": "Global_impact.ipynb",
      "provenance": []
    },
    "kernelspec": {
      "name": "python3",
      "display_name": "Python 3"
    },
    "language_info": {
      "name": "python"
    }
  },
  "cells": [
    {
      "cell_type": "markdown",
      "metadata": {
        "id": "tcJoCACHK9Lt"
      },
      "source": [
        "# Importações \n",
        "\n"
      ]
    },
    {
      "cell_type": "code",
      "metadata": {
        "id": "fGI9cM1HLFlH"
      },
      "source": [
        "import numpy as np\n",
        "import pandas as pd\n",
        "import matplotlib.pyplot as plt\n",
        "import seaborn as sns\n",
        "from scipy.stats import  binom, poisson, expon, norm, t, chi2, f"
      ],
      "execution_count": 1,
      "outputs": []
    },
    {
      "cell_type": "markdown",
      "metadata": {
        "id": "2mcNyvV0LFuB"
      },
      "source": [
        "# Dados"
      ]
    },
    {
      "cell_type": "code",
      "metadata": {
        "id": "fgK4myj3LF0E"
      },
      "source": [
        "dados_municipio = pd.read_excel('paises.xlsx', sheet_name= 'Goal12')"
      ],
      "execution_count": 2,
      "outputs": []
    },
    {
      "cell_type": "code",
      "metadata": {
        "id": "i1KXay3-Ni32"
      },
      "source": [
        "dados_continete = pd.read_excel('continentes_eletronicos.xlsx', sheet_name= 'Goal12')"
      ],
      "execution_count": 3,
      "outputs": []
    },
    {
      "cell_type": "code",
      "metadata": {
        "colab": {
          "base_uri": "https://localhost:8080/",
          "height": 701
        },
        "id": "bvBnsHZ5LF47",
        "outputId": "0be70d8b-0ec6-4f57-9caf-34c720d55571"
      },
      "source": [
        "dados_municipio"
      ],
      "execution_count": 4,
      "outputs": [
        {
          "output_type": "execute_result",
          "data": {
            "text/html": [
              "<div>\n",
              "<style scoped>\n",
              "    .dataframe tbody tr th:only-of-type {\n",
              "        vertical-align: middle;\n",
              "    }\n",
              "\n",
              "    .dataframe tbody tr th {\n",
              "        vertical-align: top;\n",
              "    }\n",
              "\n",
              "    .dataframe thead th {\n",
              "        text-align: right;\n",
              "    }\n",
              "</style>\n",
              "<table border=\"1\" class=\"dataframe\">\n",
              "  <thead>\n",
              "    <tr style=\"text-align: right;\">\n",
              "      <th></th>\n",
              "      <th>Goal</th>\n",
              "      <th>Target</th>\n",
              "      <th>Indicator</th>\n",
              "      <th>SeriesCode</th>\n",
              "      <th>SeriesDescription</th>\n",
              "      <th>GeoAreaCode</th>\n",
              "      <th>GeoAreaName</th>\n",
              "      <th>TimePeriod</th>\n",
              "      <th>Value</th>\n",
              "      <th>Time_Detail</th>\n",
              "      <th>TimeCoverage</th>\n",
              "      <th>UpperBound</th>\n",
              "      <th>LowerBound</th>\n",
              "      <th>BasePeriod</th>\n",
              "      <th>Source</th>\n",
              "      <th>GeoInfoUrl</th>\n",
              "      <th>FootNote</th>\n",
              "      <th>Nature</th>\n",
              "      <th>Observation Status</th>\n",
              "      <th>Reporting Type</th>\n",
              "      <th>Units</th>\n",
              "    </tr>\n",
              "  </thead>\n",
              "  <tbody>\n",
              "    <tr>\n",
              "      <th>0</th>\n",
              "      <td>12</td>\n",
              "      <td>12.5</td>\n",
              "      <td>12.5.1</td>\n",
              "      <td>EN_MWT_RCYV</td>\n",
              "      <td>Municipal waste recycled (Tonnes)</td>\n",
              "      <td>8</td>\n",
              "      <td>Albania</td>\n",
              "      <td>2013</td>\n",
              "      <td>225638.00049</td>\n",
              "      <td>2013</td>\n",
              "      <td>NaN</td>\n",
              "      <td>NaN</td>\n",
              "      <td>NaN</td>\n",
              "      <td>NaN</td>\n",
              "      <td>UNSTATS / WESR</td>\n",
              "      <td>NaN</td>\n",
              "      <td>NaN</td>\n",
              "      <td>C</td>\n",
              "      <td>A</td>\n",
              "      <td>G</td>\n",
              "      <td>TONNES</td>\n",
              "    </tr>\n",
              "    <tr>\n",
              "      <th>1</th>\n",
              "      <td>12</td>\n",
              "      <td>12.5</td>\n",
              "      <td>12.5.1</td>\n",
              "      <td>EN_MWT_RCYV</td>\n",
              "      <td>Municipal waste recycled (Tonnes)</td>\n",
              "      <td>8</td>\n",
              "      <td>Albania</td>\n",
              "      <td>2014</td>\n",
              "      <td>265438.99536</td>\n",
              "      <td>2014</td>\n",
              "      <td>NaN</td>\n",
              "      <td>NaN</td>\n",
              "      <td>NaN</td>\n",
              "      <td>NaN</td>\n",
              "      <td>UNSTATS / WESR</td>\n",
              "      <td>NaN</td>\n",
              "      <td>NaN</td>\n",
              "      <td>C</td>\n",
              "      <td>A</td>\n",
              "      <td>G</td>\n",
              "      <td>TONNES</td>\n",
              "    </tr>\n",
              "    <tr>\n",
              "      <th>2</th>\n",
              "      <td>12</td>\n",
              "      <td>12.5</td>\n",
              "      <td>12.5.1</td>\n",
              "      <td>EN_MWT_RCYV</td>\n",
              "      <td>Municipal waste recycled (Tonnes)</td>\n",
              "      <td>8</td>\n",
              "      <td>Albania</td>\n",
              "      <td>2015</td>\n",
              "      <td>116221.00067</td>\n",
              "      <td>2015</td>\n",
              "      <td>NaN</td>\n",
              "      <td>NaN</td>\n",
              "      <td>NaN</td>\n",
              "      <td>NaN</td>\n",
              "      <td>UNSTATS / WESR</td>\n",
              "      <td>NaN</td>\n",
              "      <td>NaN</td>\n",
              "      <td>C</td>\n",
              "      <td>A</td>\n",
              "      <td>G</td>\n",
              "      <td>TONNES</td>\n",
              "    </tr>\n",
              "    <tr>\n",
              "      <th>3</th>\n",
              "      <td>12</td>\n",
              "      <td>12.5</td>\n",
              "      <td>12.5.1</td>\n",
              "      <td>EN_MWT_RCYV</td>\n",
              "      <td>Municipal waste recycled (Tonnes)</td>\n",
              "      <td>12</td>\n",
              "      <td>Algeria</td>\n",
              "      <td>2003</td>\n",
              "      <td>5500.00000</td>\n",
              "      <td>2003</td>\n",
              "      <td>NaN</td>\n",
              "      <td>NaN</td>\n",
              "      <td>NaN</td>\n",
              "      <td>NaN</td>\n",
              "      <td>UNSTATS / WESR</td>\n",
              "      <td>NaN</td>\n",
              "      <td>NaN</td>\n",
              "      <td>C</td>\n",
              "      <td>A</td>\n",
              "      <td>G</td>\n",
              "      <td>TONNES</td>\n",
              "    </tr>\n",
              "    <tr>\n",
              "      <th>4</th>\n",
              "      <td>12</td>\n",
              "      <td>12.5</td>\n",
              "      <td>12.5.1</td>\n",
              "      <td>EN_MWT_RCYV</td>\n",
              "      <td>Municipal waste recycled (Tonnes)</td>\n",
              "      <td>12</td>\n",
              "      <td>Algeria</td>\n",
              "      <td>2014</td>\n",
              "      <td>481680.99976</td>\n",
              "      <td>2014</td>\n",
              "      <td>NaN</td>\n",
              "      <td>NaN</td>\n",
              "      <td>NaN</td>\n",
              "      <td>NaN</td>\n",
              "      <td>UNSTATS / WESR</td>\n",
              "      <td>NaN</td>\n",
              "      <td>NaN</td>\n",
              "      <td>C</td>\n",
              "      <td>A</td>\n",
              "      <td>G</td>\n",
              "      <td>TONNES</td>\n",
              "    </tr>\n",
              "    <tr>\n",
              "      <th>...</th>\n",
              "      <td>...</td>\n",
              "      <td>...</td>\n",
              "      <td>...</td>\n",
              "      <td>...</td>\n",
              "      <td>...</td>\n",
              "      <td>...</td>\n",
              "      <td>...</td>\n",
              "      <td>...</td>\n",
              "      <td>...</td>\n",
              "      <td>...</td>\n",
              "      <td>...</td>\n",
              "      <td>...</td>\n",
              "      <td>...</td>\n",
              "      <td>...</td>\n",
              "      <td>...</td>\n",
              "      <td>...</td>\n",
              "      <td>...</td>\n",
              "      <td>...</td>\n",
              "      <td>...</td>\n",
              "      <td>...</td>\n",
              "      <td>...</td>\n",
              "    </tr>\n",
              "    <tr>\n",
              "      <th>493</th>\n",
              "      <td>12</td>\n",
              "      <td>12.5</td>\n",
              "      <td>12.5.1</td>\n",
              "      <td>EN_MWT_RCYV</td>\n",
              "      <td>Municipal waste recycled (Tonnes)</td>\n",
              "      <td>834</td>\n",
              "      <td>United Republic of Tanzania</td>\n",
              "      <td>2015</td>\n",
              "      <td>3291.19992</td>\n",
              "      <td>2015</td>\n",
              "      <td>NaN</td>\n",
              "      <td>NaN</td>\n",
              "      <td>NaN</td>\n",
              "      <td>NaN</td>\n",
              "      <td>UNSTATS / WESR</td>\n",
              "      <td>NaN</td>\n",
              "      <td>Data refer to Moshi and Songea only.</td>\n",
              "      <td>C</td>\n",
              "      <td>A</td>\n",
              "      <td>G</td>\n",
              "      <td>TONNES</td>\n",
              "    </tr>\n",
              "    <tr>\n",
              "      <th>494</th>\n",
              "      <td>12</td>\n",
              "      <td>12.5</td>\n",
              "      <td>12.5.1</td>\n",
              "      <td>EN_MWT_RCYV</td>\n",
              "      <td>Municipal waste recycled (Tonnes)</td>\n",
              "      <td>858</td>\n",
              "      <td>Uruguay</td>\n",
              "      <td>2000</td>\n",
              "      <td>0.00000</td>\n",
              "      <td>2000</td>\n",
              "      <td>NaN</td>\n",
              "      <td>NaN</td>\n",
              "      <td>NaN</td>\n",
              "      <td>NaN</td>\n",
              "      <td>UNSTATS / WESR</td>\n",
              "      <td>NaN</td>\n",
              "      <td>NaN</td>\n",
              "      <td>C</td>\n",
              "      <td>A</td>\n",
              "      <td>G</td>\n",
              "      <td>TONNES</td>\n",
              "    </tr>\n",
              "    <tr>\n",
              "      <th>495</th>\n",
              "      <td>12</td>\n",
              "      <td>12.5</td>\n",
              "      <td>12.5.1</td>\n",
              "      <td>EN_MWT_RCYV</td>\n",
              "      <td>Municipal waste recycled (Tonnes)</td>\n",
              "      <td>882</td>\n",
              "      <td>Samoa</td>\n",
              "      <td>2015</td>\n",
              "      <td>70.00000</td>\n",
              "      <td>2015</td>\n",
              "      <td>NaN</td>\n",
              "      <td>NaN</td>\n",
              "      <td>NaN</td>\n",
              "      <td>NaN</td>\n",
              "      <td>UNSTATS / WESR</td>\n",
              "      <td>NaN</td>\n",
              "      <td>NaN</td>\n",
              "      <td>C</td>\n",
              "      <td>A</td>\n",
              "      <td>G</td>\n",
              "      <td>TONNES</td>\n",
              "    </tr>\n",
              "    <tr>\n",
              "      <th>496</th>\n",
              "      <td>12</td>\n",
              "      <td>12.5</td>\n",
              "      <td>12.5.1</td>\n",
              "      <td>EN_MWT_RCYV</td>\n",
              "      <td>Municipal waste recycled (Tonnes)</td>\n",
              "      <td>882</td>\n",
              "      <td>Samoa</td>\n",
              "      <td>2016</td>\n",
              "      <td>542.00000</td>\n",
              "      <td>2016</td>\n",
              "      <td>NaN</td>\n",
              "      <td>NaN</td>\n",
              "      <td>NaN</td>\n",
              "      <td>NaN</td>\n",
              "      <td>UNSTATS / WESR</td>\n",
              "      <td>NaN</td>\n",
              "      <td>NaN</td>\n",
              "      <td>C</td>\n",
              "      <td>A</td>\n",
              "      <td>G</td>\n",
              "      <td>TONNES</td>\n",
              "    </tr>\n",
              "    <tr>\n",
              "      <th>497</th>\n",
              "      <td>12</td>\n",
              "      <td>12.5</td>\n",
              "      <td>12.5.1</td>\n",
              "      <td>EN_MWT_RCYV</td>\n",
              "      <td>Municipal waste recycled (Tonnes)</td>\n",
              "      <td>882</td>\n",
              "      <td>Samoa</td>\n",
              "      <td>2017</td>\n",
              "      <td>862.99998</td>\n",
              "      <td>2017</td>\n",
              "      <td>NaN</td>\n",
              "      <td>NaN</td>\n",
              "      <td>NaN</td>\n",
              "      <td>NaN</td>\n",
              "      <td>UNSTATS / WESR</td>\n",
              "      <td>NaN</td>\n",
              "      <td>NaN</td>\n",
              "      <td>C</td>\n",
              "      <td>A</td>\n",
              "      <td>G</td>\n",
              "      <td>TONNES</td>\n",
              "    </tr>\n",
              "  </tbody>\n",
              "</table>\n",
              "<p>498 rows × 21 columns</p>\n",
              "</div>"
            ],
            "text/plain": [
              "     Goal  Target Indicator  ... Observation Status Reporting Type   Units\n",
              "0      12    12.5    12.5.1  ...                  A              G  TONNES\n",
              "1      12    12.5    12.5.1  ...                  A              G  TONNES\n",
              "2      12    12.5    12.5.1  ...                  A              G  TONNES\n",
              "3      12    12.5    12.5.1  ...                  A              G  TONNES\n",
              "4      12    12.5    12.5.1  ...                  A              G  TONNES\n",
              "..    ...     ...       ...  ...                ...            ...     ...\n",
              "493    12    12.5    12.5.1  ...                  A              G  TONNES\n",
              "494    12    12.5    12.5.1  ...                  A              G  TONNES\n",
              "495    12    12.5    12.5.1  ...                  A              G  TONNES\n",
              "496    12    12.5    12.5.1  ...                  A              G  TONNES\n",
              "497    12    12.5    12.5.1  ...                  A              G  TONNES\n",
              "\n",
              "[498 rows x 21 columns]"
            ]
          },
          "metadata": {},
          "execution_count": 4
        }
      ]
    },
    {
      "cell_type": "code",
      "metadata": {
        "colab": {
          "base_uri": "https://localhost:8080/",
          "height": 805
        },
        "id": "eK8M1mSzLF97",
        "outputId": "8b4a642d-730b-446d-a8cb-c0b129d4b12a"
      },
      "source": [
        "dados_continete"
      ],
      "execution_count": 5,
      "outputs": [
        {
          "output_type": "execute_result",
          "data": {
            "text/html": [
              "<div>\n",
              "<style scoped>\n",
              "    .dataframe tbody tr th:only-of-type {\n",
              "        vertical-align: middle;\n",
              "    }\n",
              "\n",
              "    .dataframe tbody tr th {\n",
              "        vertical-align: top;\n",
              "    }\n",
              "\n",
              "    .dataframe thead th {\n",
              "        text-align: right;\n",
              "    }\n",
              "</style>\n",
              "<table border=\"1\" class=\"dataframe\">\n",
              "  <thead>\n",
              "    <tr style=\"text-align: right;\">\n",
              "      <th></th>\n",
              "      <th>Goal</th>\n",
              "      <th>Target</th>\n",
              "      <th>Indicator</th>\n",
              "      <th>SeriesCode</th>\n",
              "      <th>SeriesDescription</th>\n",
              "      <th>GeoAreaCode</th>\n",
              "      <th>GeoAreaName</th>\n",
              "      <th>TimePeriod</th>\n",
              "      <th>Value</th>\n",
              "      <th>Time_Detail</th>\n",
              "      <th>TimeCoverage</th>\n",
              "      <th>UpperBound</th>\n",
              "      <th>LowerBound</th>\n",
              "      <th>BasePeriod</th>\n",
              "      <th>Source</th>\n",
              "      <th>GeoInfoUrl</th>\n",
              "      <th>FootNote</th>\n",
              "      <th>Nature</th>\n",
              "      <th>Reporting Type</th>\n",
              "      <th>Units</th>\n",
              "    </tr>\n",
              "  </thead>\n",
              "  <tbody>\n",
              "    <tr>\n",
              "      <th>0</th>\n",
              "      <td>12</td>\n",
              "      <td>12.5</td>\n",
              "      <td>12.5.1</td>\n",
              "      <td>EN_EWT_RCYV</td>\n",
              "      <td>Electronic waste recycling (Tonnes)</td>\n",
              "      <td>1</td>\n",
              "      <td>World</td>\n",
              "      <td>2010</td>\n",
              "      <td>5554063.00</td>\n",
              "      <td>2010</td>\n",
              "      <td>NaN</td>\n",
              "      <td>NaN</td>\n",
              "      <td>NaN</td>\n",
              "      <td>NaN</td>\n",
              "      <td>UNSD / UNU / WESR</td>\n",
              "      <td>NaN</td>\n",
              "      <td>NaN</td>\n",
              "      <td>E</td>\n",
              "      <td>G</td>\n",
              "      <td>TONNES</td>\n",
              "    </tr>\n",
              "    <tr>\n",
              "      <th>1</th>\n",
              "      <td>12</td>\n",
              "      <td>12.5</td>\n",
              "      <td>12.5.1</td>\n",
              "      <td>EN_EWT_RCYV</td>\n",
              "      <td>Electronic waste recycling (Tonnes)</td>\n",
              "      <td>1</td>\n",
              "      <td>World</td>\n",
              "      <td>2011</td>\n",
              "      <td>5738041.75</td>\n",
              "      <td>2011</td>\n",
              "      <td>NaN</td>\n",
              "      <td>NaN</td>\n",
              "      <td>NaN</td>\n",
              "      <td>NaN</td>\n",
              "      <td>UNSD / UNU / WESR</td>\n",
              "      <td>NaN</td>\n",
              "      <td>NaN</td>\n",
              "      <td>E</td>\n",
              "      <td>G</td>\n",
              "      <td>TONNES</td>\n",
              "    </tr>\n",
              "    <tr>\n",
              "      <th>2</th>\n",
              "      <td>12</td>\n",
              "      <td>12.5</td>\n",
              "      <td>12.5.1</td>\n",
              "      <td>EN_EWT_RCYV</td>\n",
              "      <td>Electronic waste recycling (Tonnes)</td>\n",
              "      <td>1</td>\n",
              "      <td>World</td>\n",
              "      <td>2012</td>\n",
              "      <td>5729046.80</td>\n",
              "      <td>2012</td>\n",
              "      <td>NaN</td>\n",
              "      <td>NaN</td>\n",
              "      <td>NaN</td>\n",
              "      <td>NaN</td>\n",
              "      <td>UNSD / UNU / WESR</td>\n",
              "      <td>NaN</td>\n",
              "      <td>NaN</td>\n",
              "      <td>E</td>\n",
              "      <td>G</td>\n",
              "      <td>TONNES</td>\n",
              "    </tr>\n",
              "    <tr>\n",
              "      <th>3</th>\n",
              "      <td>12</td>\n",
              "      <td>12.5</td>\n",
              "      <td>12.5.1</td>\n",
              "      <td>EN_EWT_RCYV</td>\n",
              "      <td>Electronic waste recycling (Tonnes)</td>\n",
              "      <td>1</td>\n",
              "      <td>World</td>\n",
              "      <td>2013</td>\n",
              "      <td>7436168.86</td>\n",
              "      <td>2013</td>\n",
              "      <td>NaN</td>\n",
              "      <td>NaN</td>\n",
              "      <td>NaN</td>\n",
              "      <td>NaN</td>\n",
              "      <td>UNSD / UNU / WESR</td>\n",
              "      <td>NaN</td>\n",
              "      <td>NaN</td>\n",
              "      <td>E</td>\n",
              "      <td>G</td>\n",
              "      <td>TONNES</td>\n",
              "    </tr>\n",
              "    <tr>\n",
              "      <th>4</th>\n",
              "      <td>12</td>\n",
              "      <td>12.5</td>\n",
              "      <td>12.5.1</td>\n",
              "      <td>EN_EWT_RCYV</td>\n",
              "      <td>Electronic waste recycling (Tonnes)</td>\n",
              "      <td>1</td>\n",
              "      <td>World</td>\n",
              "      <td>2014</td>\n",
              "      <td>7533753.17</td>\n",
              "      <td>2014</td>\n",
              "      <td>NaN</td>\n",
              "      <td>NaN</td>\n",
              "      <td>NaN</td>\n",
              "      <td>NaN</td>\n",
              "      <td>UNSD / UNU / WESR</td>\n",
              "      <td>NaN</td>\n",
              "      <td>NaN</td>\n",
              "      <td>E</td>\n",
              "      <td>G</td>\n",
              "      <td>TONNES</td>\n",
              "    </tr>\n",
              "    <tr>\n",
              "      <th>...</th>\n",
              "      <td>...</td>\n",
              "      <td>...</td>\n",
              "      <td>...</td>\n",
              "      <td>...</td>\n",
              "      <td>...</td>\n",
              "      <td>...</td>\n",
              "      <td>...</td>\n",
              "      <td>...</td>\n",
              "      <td>...</td>\n",
              "      <td>...</td>\n",
              "      <td>...</td>\n",
              "      <td>...</td>\n",
              "      <td>...</td>\n",
              "      <td>...</td>\n",
              "      <td>...</td>\n",
              "      <td>...</td>\n",
              "      <td>...</td>\n",
              "      <td>...</td>\n",
              "      <td>...</td>\n",
              "      <td>...</td>\n",
              "    </tr>\n",
              "    <tr>\n",
              "      <th>186</th>\n",
              "      <td>12</td>\n",
              "      <td>12.5</td>\n",
              "      <td>12.5.1</td>\n",
              "      <td>EN_EWT_RCYV</td>\n",
              "      <td>Electronic waste recycling (Tonnes)</td>\n",
              "      <td>753</td>\n",
              "      <td>Eastern and South-Eastern Asia</td>\n",
              "      <td>2015</td>\n",
              "      <td>2152504.49</td>\n",
              "      <td>2015</td>\n",
              "      <td>NaN</td>\n",
              "      <td>NaN</td>\n",
              "      <td>NaN</td>\n",
              "      <td>NaN</td>\n",
              "      <td>UNSD / UNU / WESR</td>\n",
              "      <td>NaN</td>\n",
              "      <td>NaN</td>\n",
              "      <td>E</td>\n",
              "      <td>G</td>\n",
              "      <td>TONNES</td>\n",
              "    </tr>\n",
              "    <tr>\n",
              "      <th>187</th>\n",
              "      <td>12</td>\n",
              "      <td>12.5</td>\n",
              "      <td>12.5.1</td>\n",
              "      <td>EN_EWT_RCYV</td>\n",
              "      <td>Electronic waste recycling (Tonnes)</td>\n",
              "      <td>753</td>\n",
              "      <td>Eastern and South-Eastern Asia</td>\n",
              "      <td>2016</td>\n",
              "      <td>2446800.18</td>\n",
              "      <td>2016</td>\n",
              "      <td>NaN</td>\n",
              "      <td>NaN</td>\n",
              "      <td>NaN</td>\n",
              "      <td>NaN</td>\n",
              "      <td>UNSD / UNU / WESR</td>\n",
              "      <td>NaN</td>\n",
              "      <td>NaN</td>\n",
              "      <td>E</td>\n",
              "      <td>G</td>\n",
              "      <td>TONNES</td>\n",
              "    </tr>\n",
              "    <tr>\n",
              "      <th>188</th>\n",
              "      <td>12</td>\n",
              "      <td>12.5</td>\n",
              "      <td>12.5.1</td>\n",
              "      <td>EN_EWT_RCYV</td>\n",
              "      <td>Electronic waste recycling (Tonnes)</td>\n",
              "      <td>753</td>\n",
              "      <td>Eastern and South-Eastern Asia</td>\n",
              "      <td>2017</td>\n",
              "      <td>2565750.38</td>\n",
              "      <td>2017</td>\n",
              "      <td>NaN</td>\n",
              "      <td>NaN</td>\n",
              "      <td>NaN</td>\n",
              "      <td>NaN</td>\n",
              "      <td>UNSD / UNU / WESR</td>\n",
              "      <td>NaN</td>\n",
              "      <td>NaN</td>\n",
              "      <td>E</td>\n",
              "      <td>G</td>\n",
              "      <td>TONNES</td>\n",
              "    </tr>\n",
              "    <tr>\n",
              "      <th>189</th>\n",
              "      <td>12</td>\n",
              "      <td>12.5</td>\n",
              "      <td>12.5.1</td>\n",
              "      <td>EN_EWT_RCYV</td>\n",
              "      <td>Electronic waste recycling (Tonnes)</td>\n",
              "      <td>753</td>\n",
              "      <td>Eastern and South-Eastern Asia</td>\n",
              "      <td>2018</td>\n",
              "      <td>2651050.21</td>\n",
              "      <td>2018</td>\n",
              "      <td>NaN</td>\n",
              "      <td>NaN</td>\n",
              "      <td>NaN</td>\n",
              "      <td>NaN</td>\n",
              "      <td>UNSD / UNU / WESR</td>\n",
              "      <td>NaN</td>\n",
              "      <td>NaN</td>\n",
              "      <td>E</td>\n",
              "      <td>G</td>\n",
              "      <td>TONNES</td>\n",
              "    </tr>\n",
              "    <tr>\n",
              "      <th>190</th>\n",
              "      <td>12</td>\n",
              "      <td>12.5</td>\n",
              "      <td>12.5.1</td>\n",
              "      <td>EN_EWT_RCYV</td>\n",
              "      <td>Electronic waste recycling (Tonnes)</td>\n",
              "      <td>753</td>\n",
              "      <td>Eastern and South-Eastern Asia</td>\n",
              "      <td>2019</td>\n",
              "      <td>2755572.73</td>\n",
              "      <td>2019</td>\n",
              "      <td>NaN</td>\n",
              "      <td>NaN</td>\n",
              "      <td>NaN</td>\n",
              "      <td>NaN</td>\n",
              "      <td>UNSD / UNU / WESR</td>\n",
              "      <td>NaN</td>\n",
              "      <td>NaN</td>\n",
              "      <td>E</td>\n",
              "      <td>G</td>\n",
              "      <td>TONNES</td>\n",
              "    </tr>\n",
              "  </tbody>\n",
              "</table>\n",
              "<p>191 rows × 20 columns</p>\n",
              "</div>"
            ],
            "text/plain": [
              "     Goal  Target Indicator  ... Nature Reporting Type   Units\n",
              "0      12    12.5    12.5.1  ...      E              G  TONNES\n",
              "1      12    12.5    12.5.1  ...      E              G  TONNES\n",
              "2      12    12.5    12.5.1  ...      E              G  TONNES\n",
              "3      12    12.5    12.5.1  ...      E              G  TONNES\n",
              "4      12    12.5    12.5.1  ...      E              G  TONNES\n",
              "..    ...     ...       ...  ...    ...            ...     ...\n",
              "186    12    12.5    12.5.1  ...      E              G  TONNES\n",
              "187    12    12.5    12.5.1  ...      E              G  TONNES\n",
              "188    12    12.5    12.5.1  ...      E              G  TONNES\n",
              "189    12    12.5    12.5.1  ...      E              G  TONNES\n",
              "190    12    12.5    12.5.1  ...      E              G  TONNES\n",
              "\n",
              "[191 rows x 20 columns]"
            ]
          },
          "metadata": {},
          "execution_count": 5
        }
      ]
    },
    {
      "cell_type": "code",
      "metadata": {
        "id": "J_6H2AhvcBHI"
      },
      "source": [
        "colunas = ['GeoAreaName', 'TimePeriod', 'Units', 'Value']\n",
        "dados_pais = dados_municipio[colunas]\n",
        "dados_continente = dados_continete[colunas]"
      ],
      "execution_count": 6,
      "outputs": []
    },
    {
      "cell_type": "markdown",
      "metadata": {
        "id": "meZVFqgKQLtL"
      },
      "source": [
        "# Análises"
      ]
    },
    {
      "cell_type": "markdown",
      "metadata": {
        "id": "DhxJ_idG5RCl"
      },
      "source": [
        "### Países e mundo"
      ]
    },
    {
      "cell_type": "markdown",
      "metadata": {
        "id": "I_4lSOw311-c"
      },
      "source": [
        "- Escolhendo os dados"
      ]
    },
    {
      "cell_type": "code",
      "metadata": {
        "colab": {
          "base_uri": "https://localhost:8080/",
          "height": 422
        },
        "id": "DPmyLvqQv7Hn",
        "outputId": "11256e72-eb31-49c8-db0b-94f4a19c6076"
      },
      "source": [
        "reciclaveis_ton = dados_pais[dados_pais['Units'] == 'TONNES']\n",
        "reciclaveis_ton"
      ],
      "execution_count": 7,
      "outputs": [
        {
          "output_type": "execute_result",
          "data": {
            "text/html": [
              "<div>\n",
              "<style scoped>\n",
              "    .dataframe tbody tr th:only-of-type {\n",
              "        vertical-align: middle;\n",
              "    }\n",
              "\n",
              "    .dataframe tbody tr th {\n",
              "        vertical-align: top;\n",
              "    }\n",
              "\n",
              "    .dataframe thead th {\n",
              "        text-align: right;\n",
              "    }\n",
              "</style>\n",
              "<table border=\"1\" class=\"dataframe\">\n",
              "  <thead>\n",
              "    <tr style=\"text-align: right;\">\n",
              "      <th></th>\n",
              "      <th>GeoAreaName</th>\n",
              "      <th>TimePeriod</th>\n",
              "      <th>Units</th>\n",
              "      <th>Value</th>\n",
              "    </tr>\n",
              "  </thead>\n",
              "  <tbody>\n",
              "    <tr>\n",
              "      <th>0</th>\n",
              "      <td>Albania</td>\n",
              "      <td>2013</td>\n",
              "      <td>TONNES</td>\n",
              "      <td>225638.00049</td>\n",
              "    </tr>\n",
              "    <tr>\n",
              "      <th>1</th>\n",
              "      <td>Albania</td>\n",
              "      <td>2014</td>\n",
              "      <td>TONNES</td>\n",
              "      <td>265438.99536</td>\n",
              "    </tr>\n",
              "    <tr>\n",
              "      <th>2</th>\n",
              "      <td>Albania</td>\n",
              "      <td>2015</td>\n",
              "      <td>TONNES</td>\n",
              "      <td>116221.00067</td>\n",
              "    </tr>\n",
              "    <tr>\n",
              "      <th>3</th>\n",
              "      <td>Algeria</td>\n",
              "      <td>2003</td>\n",
              "      <td>TONNES</td>\n",
              "      <td>5500.00000</td>\n",
              "    </tr>\n",
              "    <tr>\n",
              "      <th>4</th>\n",
              "      <td>Algeria</td>\n",
              "      <td>2014</td>\n",
              "      <td>TONNES</td>\n",
              "      <td>481680.99976</td>\n",
              "    </tr>\n",
              "    <tr>\n",
              "      <th>...</th>\n",
              "      <td>...</td>\n",
              "      <td>...</td>\n",
              "      <td>...</td>\n",
              "      <td>...</td>\n",
              "    </tr>\n",
              "    <tr>\n",
              "      <th>493</th>\n",
              "      <td>United Republic of Tanzania</td>\n",
              "      <td>2015</td>\n",
              "      <td>TONNES</td>\n",
              "      <td>3291.19992</td>\n",
              "    </tr>\n",
              "    <tr>\n",
              "      <th>494</th>\n",
              "      <td>Uruguay</td>\n",
              "      <td>2000</td>\n",
              "      <td>TONNES</td>\n",
              "      <td>0.00000</td>\n",
              "    </tr>\n",
              "    <tr>\n",
              "      <th>495</th>\n",
              "      <td>Samoa</td>\n",
              "      <td>2015</td>\n",
              "      <td>TONNES</td>\n",
              "      <td>70.00000</td>\n",
              "    </tr>\n",
              "    <tr>\n",
              "      <th>496</th>\n",
              "      <td>Samoa</td>\n",
              "      <td>2016</td>\n",
              "      <td>TONNES</td>\n",
              "      <td>542.00000</td>\n",
              "    </tr>\n",
              "    <tr>\n",
              "      <th>497</th>\n",
              "      <td>Samoa</td>\n",
              "      <td>2017</td>\n",
              "      <td>TONNES</td>\n",
              "      <td>862.99998</td>\n",
              "    </tr>\n",
              "  </tbody>\n",
              "</table>\n",
              "<p>498 rows × 4 columns</p>\n",
              "</div>"
            ],
            "text/plain": [
              "                     GeoAreaName  TimePeriod   Units         Value\n",
              "0                        Albania        2013  TONNES  225638.00049\n",
              "1                        Albania        2014  TONNES  265438.99536\n",
              "2                        Albania        2015  TONNES  116221.00067\n",
              "3                        Algeria        2003  TONNES    5500.00000\n",
              "4                        Algeria        2014  TONNES  481680.99976\n",
              "..                           ...         ...     ...           ...\n",
              "493  United Republic of Tanzania        2015  TONNES    3291.19992\n",
              "494                      Uruguay        2000  TONNES       0.00000\n",
              "495                        Samoa        2015  TONNES      70.00000\n",
              "496                        Samoa        2016  TONNES     542.00000\n",
              "497                        Samoa        2017  TONNES     862.99998\n",
              "\n",
              "[498 rows x 4 columns]"
            ]
          },
          "metadata": {},
          "execution_count": 7
        }
      ]
    },
    {
      "cell_type": "code",
      "metadata": {
        "colab": {
          "base_uri": "https://localhost:8080/",
          "height": 236
        },
        "id": "mfD40x3m1MeJ",
        "outputId": "da30d206-601c-47e8-e5c8-4c96a44e1f90"
      },
      "source": [
        "reciclaveis_ton_cont = reciclaveis_ton[reciclaveis_ton['Value'] > 0].groupby('GeoAreaName').agg(contagem_anos = pd.NamedAgg('TimePeriod', 'count'))\n",
        "escolha_local = reciclaveis_ton_cont[reciclaveis_ton_cont['contagem_anos'] >= 16]\n",
        "escolha_local.sort_values(by= 'contagem_anos', ascending= False).head(5)"
      ],
      "execution_count": 8,
      "outputs": [
        {
          "output_type": "execute_result",
          "data": {
            "text/html": [
              "<div>\n",
              "<style scoped>\n",
              "    .dataframe tbody tr th:only-of-type {\n",
              "        vertical-align: middle;\n",
              "    }\n",
              "\n",
              "    .dataframe tbody tr th {\n",
              "        vertical-align: top;\n",
              "    }\n",
              "\n",
              "    .dataframe thead th {\n",
              "        text-align: right;\n",
              "    }\n",
              "</style>\n",
              "<table border=\"1\" class=\"dataframe\">\n",
              "  <thead>\n",
              "    <tr style=\"text-align: right;\">\n",
              "      <th></th>\n",
              "      <th>contagem_anos</th>\n",
              "    </tr>\n",
              "    <tr>\n",
              "      <th>GeoAreaName</th>\n",
              "      <th></th>\n",
              "    </tr>\n",
              "  </thead>\n",
              "  <tbody>\n",
              "    <tr>\n",
              "      <th>Malaysia</th>\n",
              "      <td>20</td>\n",
              "    </tr>\n",
              "    <tr>\n",
              "      <th>Singapore</th>\n",
              "      <td>20</td>\n",
              "    </tr>\n",
              "    <tr>\n",
              "      <th>China, Macao Special Administrative Region</th>\n",
              "      <td>18</td>\n",
              "    </tr>\n",
              "    <tr>\n",
              "      <th>Ghana</th>\n",
              "      <td>18</td>\n",
              "    </tr>\n",
              "    <tr>\n",
              "      <th>China, Hong Kong Special Administrative Region</th>\n",
              "      <td>16</td>\n",
              "    </tr>\n",
              "  </tbody>\n",
              "</table>\n",
              "</div>"
            ],
            "text/plain": [
              "                                                contagem_anos\n",
              "GeoAreaName                                                  \n",
              "Malaysia                                                   20\n",
              "Singapore                                                  20\n",
              "China, Macao Special Administrative Region                 18\n",
              "Ghana                                                      18\n",
              "China, Hong Kong Special Administrative Region             16"
            ]
          },
          "metadata": {},
          "execution_count": 8
        }
      ]
    },
    {
      "cell_type": "markdown",
      "metadata": {
        "id": "e7MzWf5jdMI4"
      },
      "source": [
        "- Mundo"
      ]
    },
    {
      "cell_type": "code",
      "metadata": {
        "colab": {
          "base_uri": "https://localhost:8080/",
          "height": 675
        },
        "id": "J_xfmNQidOWI",
        "outputId": "20108059-2ec4-48ac-d08c-04c2d21666b2"
      },
      "source": [
        "reciclaveis_ton_mundo = reciclaveis_ton.groupby('TimePeriod').agg(total_mundo = pd.NamedAgg('Value', 'sum')).reset_index()\n",
        "reciclaveis_ton_mundo"
      ],
      "execution_count": 9,
      "outputs": [
        {
          "output_type": "execute_result",
          "data": {
            "text/html": [
              "<div>\n",
              "<style scoped>\n",
              "    .dataframe tbody tr th:only-of-type {\n",
              "        vertical-align: middle;\n",
              "    }\n",
              "\n",
              "    .dataframe tbody tr th {\n",
              "        vertical-align: top;\n",
              "    }\n",
              "\n",
              "    .dataframe thead th {\n",
              "        text-align: right;\n",
              "    }\n",
              "</style>\n",
              "<table border=\"1\" class=\"dataframe\">\n",
              "  <thead>\n",
              "    <tr style=\"text-align: right;\">\n",
              "      <th></th>\n",
              "      <th>TimePeriod</th>\n",
              "      <th>total_mundo</th>\n",
              "    </tr>\n",
              "  </thead>\n",
              "  <tbody>\n",
              "    <tr>\n",
              "      <th>0</th>\n",
              "      <td>2000</td>\n",
              "      <td>4.372086e+06</td>\n",
              "    </tr>\n",
              "    <tr>\n",
              "      <th>1</th>\n",
              "      <td>2001</td>\n",
              "      <td>4.953331e+06</td>\n",
              "    </tr>\n",
              "    <tr>\n",
              "      <th>2</th>\n",
              "      <td>2002</td>\n",
              "      <td>5.201623e+06</td>\n",
              "    </tr>\n",
              "    <tr>\n",
              "      <th>3</th>\n",
              "      <td>2003</td>\n",
              "      <td>8.826494e+06</td>\n",
              "    </tr>\n",
              "    <tr>\n",
              "      <th>4</th>\n",
              "      <td>2004</td>\n",
              "      <td>6.543405e+06</td>\n",
              "    </tr>\n",
              "    <tr>\n",
              "      <th>5</th>\n",
              "      <td>2005</td>\n",
              "      <td>8.711711e+06</td>\n",
              "    </tr>\n",
              "    <tr>\n",
              "      <th>6</th>\n",
              "      <td>2006</td>\n",
              "      <td>8.765628e+06</td>\n",
              "    </tr>\n",
              "    <tr>\n",
              "      <th>7</th>\n",
              "      <td>2007</td>\n",
              "      <td>1.038611e+07</td>\n",
              "    </tr>\n",
              "    <tr>\n",
              "      <th>8</th>\n",
              "      <td>2008</td>\n",
              "      <td>1.349004e+07</td>\n",
              "    </tr>\n",
              "    <tr>\n",
              "      <th>9</th>\n",
              "      <td>2009</td>\n",
              "      <td>1.730230e+07</td>\n",
              "    </tr>\n",
              "    <tr>\n",
              "      <th>10</th>\n",
              "      <td>2010</td>\n",
              "      <td>1.592772e+07</td>\n",
              "    </tr>\n",
              "    <tr>\n",
              "      <th>11</th>\n",
              "      <td>2011</td>\n",
              "      <td>1.275447e+07</td>\n",
              "    </tr>\n",
              "    <tr>\n",
              "      <th>12</th>\n",
              "      <td>2012</td>\n",
              "      <td>1.666466e+07</td>\n",
              "    </tr>\n",
              "    <tr>\n",
              "      <th>13</th>\n",
              "      <td>2013</td>\n",
              "      <td>1.467500e+07</td>\n",
              "    </tr>\n",
              "    <tr>\n",
              "      <th>14</th>\n",
              "      <td>2014</td>\n",
              "      <td>2.126348e+07</td>\n",
              "    </tr>\n",
              "    <tr>\n",
              "      <th>15</th>\n",
              "      <td>2015</td>\n",
              "      <td>2.253614e+07</td>\n",
              "    </tr>\n",
              "    <tr>\n",
              "      <th>16</th>\n",
              "      <td>2016</td>\n",
              "      <td>1.814706e+07</td>\n",
              "    </tr>\n",
              "    <tr>\n",
              "      <th>17</th>\n",
              "      <td>2017</td>\n",
              "      <td>1.786944e+07</td>\n",
              "    </tr>\n",
              "    <tr>\n",
              "      <th>18</th>\n",
              "      <td>2018</td>\n",
              "      <td>1.237900e+07</td>\n",
              "    </tr>\n",
              "    <tr>\n",
              "      <th>19</th>\n",
              "      <td>2019</td>\n",
              "      <td>1.330228e+07</td>\n",
              "    </tr>\n",
              "  </tbody>\n",
              "</table>\n",
              "</div>"
            ],
            "text/plain": [
              "    TimePeriod   total_mundo\n",
              "0         2000  4.372086e+06\n",
              "1         2001  4.953331e+06\n",
              "2         2002  5.201623e+06\n",
              "3         2003  8.826494e+06\n",
              "4         2004  6.543405e+06\n",
              "5         2005  8.711711e+06\n",
              "6         2006  8.765628e+06\n",
              "7         2007  1.038611e+07\n",
              "8         2008  1.349004e+07\n",
              "9         2009  1.730230e+07\n",
              "10        2010  1.592772e+07\n",
              "11        2011  1.275447e+07\n",
              "12        2012  1.666466e+07\n",
              "13        2013  1.467500e+07\n",
              "14        2014  2.126348e+07\n",
              "15        2015  2.253614e+07\n",
              "16        2016  1.814706e+07\n",
              "17        2017  1.786944e+07\n",
              "18        2018  1.237900e+07\n",
              "19        2019  1.330228e+07"
            ]
          },
          "metadata": {},
          "execution_count": 9
        }
      ]
    },
    {
      "cell_type": "code",
      "metadata": {
        "colab": {
          "base_uri": "https://localhost:8080/",
          "height": 312
        },
        "id": "yfeyJvHedz2A",
        "outputId": "e075c739-d7e6-4df7-8536-907ea2b469a9"
      },
      "source": [
        "y = reciclaveis_ton_mundo['total_mundo']\n",
        "x = reciclaveis_ton_mundo['TimePeriod']\n",
        "\n",
        "plt.plot(x, y, c='red',label='Mundo')\n",
        "\n",
        "plt.xlabel(\"Date\")\n",
        "plt.ylabel(\"Toneladas\")\n",
        "plt.title('Peso lixo reciclado')\n",
        "plt.legend()\n",
        "plt.xticks(rotation=30)\n",
        "plt.show()"
      ],
      "execution_count": 10,
      "outputs": [
        {
          "output_type": "display_data",
          "data": {
            "image/png": "[encoded data removed]",
            "text/plain": [
              "<Figure size 432x288 with 1 Axes>"
            ]
          },
          "metadata": {
            "needs_background": "light"
          }
        }
      ]
    },
    {
      "cell_type": "markdown",
      "metadata": {
        "id": "Y8INyYovQPuj"
      },
      "source": [
        "- Brasil \n"
      ]
    },
    {
      "cell_type": "code",
      "metadata": {
        "colab": {
          "base_uri": "https://localhost:8080/",
          "height": 425
        },
        "id": "PtZ6LasSytZv",
        "outputId": "62408e9d-8316-4ecd-9fef-08fe7f9a1ff8"
      },
      "source": [
        "reciclaveis_ton_br = reciclaveis_ton[reciclaveis_ton['GeoAreaName'] == 'Brazil']\n",
        "reciclaveis_ton_br"
      ],
      "execution_count": 11,
      "outputs": [
        {
          "output_type": "execute_result",
          "data": {
            "text/html": [
              "<div>\n",
              "<style scoped>\n",
              "    .dataframe tbody tr th:only-of-type {\n",
              "        vertical-align: middle;\n",
              "    }\n",
              "\n",
              "    .dataframe tbody tr th {\n",
              "        vertical-align: top;\n",
              "    }\n",
              "\n",
              "    .dataframe thead th {\n",
              "        text-align: right;\n",
              "    }\n",
              "</style>\n",
              "<table border=\"1\" class=\"dataframe\">\n",
              "  <thead>\n",
              "    <tr style=\"text-align: right;\">\n",
              "      <th></th>\n",
              "      <th>GeoAreaName</th>\n",
              "      <th>TimePeriod</th>\n",
              "      <th>Units</th>\n",
              "      <th>Value</th>\n",
              "    </tr>\n",
              "  </thead>\n",
              "  <tbody>\n",
              "    <tr>\n",
              "      <th>64</th>\n",
              "      <td>Brazil</td>\n",
              "      <td>2004</td>\n",
              "      <td>TONNES</td>\n",
              "      <td>2.207067e+05</td>\n",
              "    </tr>\n",
              "    <tr>\n",
              "      <th>65</th>\n",
              "      <td>Brazil</td>\n",
              "      <td>2005</td>\n",
              "      <td>TONNES</td>\n",
              "      <td>3.205013e+05</td>\n",
              "    </tr>\n",
              "    <tr>\n",
              "      <th>66</th>\n",
              "      <td>Brazil</td>\n",
              "      <td>2006</td>\n",
              "      <td>TONNES</td>\n",
              "      <td>2.065405e+05</td>\n",
              "    </tr>\n",
              "    <tr>\n",
              "      <th>67</th>\n",
              "      <td>Brazil</td>\n",
              "      <td>2007</td>\n",
              "      <td>TONNES</td>\n",
              "      <td>2.730766e+05</td>\n",
              "    </tr>\n",
              "    <tr>\n",
              "      <th>68</th>\n",
              "      <td>Brazil</td>\n",
              "      <td>2008</td>\n",
              "      <td>TONNES</td>\n",
              "      <td>2.400817e+06</td>\n",
              "    </tr>\n",
              "    <tr>\n",
              "      <th>69</th>\n",
              "      <td>Brazil</td>\n",
              "      <td>2009</td>\n",
              "      <td>TONNES</td>\n",
              "      <td>3.535823e+06</td>\n",
              "    </tr>\n",
              "    <tr>\n",
              "      <th>70</th>\n",
              "      <td>Brazil</td>\n",
              "      <td>2010</td>\n",
              "      <td>TONNES</td>\n",
              "      <td>1.185840e+06</td>\n",
              "    </tr>\n",
              "    <tr>\n",
              "      <th>71</th>\n",
              "      <td>Brazil</td>\n",
              "      <td>2011</td>\n",
              "      <td>TONNES</td>\n",
              "      <td>4.865437e+05</td>\n",
              "    </tr>\n",
              "    <tr>\n",
              "      <th>72</th>\n",
              "      <td>Brazil</td>\n",
              "      <td>2012</td>\n",
              "      <td>TONNES</td>\n",
              "      <td>5.183253e+05</td>\n",
              "    </tr>\n",
              "    <tr>\n",
              "      <th>73</th>\n",
              "      <td>Brazil</td>\n",
              "      <td>2013</td>\n",
              "      <td>TONNES</td>\n",
              "      <td>7.755628e+05</td>\n",
              "    </tr>\n",
              "    <tr>\n",
              "      <th>74</th>\n",
              "      <td>Brazil</td>\n",
              "      <td>2014</td>\n",
              "      <td>TONNES</td>\n",
              "      <td>9.372830e+05</td>\n",
              "    </tr>\n",
              "    <tr>\n",
              "      <th>75</th>\n",
              "      <td>Brazil</td>\n",
              "      <td>2015</td>\n",
              "      <td>TONNES</td>\n",
              "      <td>1.023470e+06</td>\n",
              "    </tr>\n",
              "  </tbody>\n",
              "</table>\n",
              "</div>"
            ],
            "text/plain": [
              "   GeoAreaName  TimePeriod   Units         Value\n",
              "64      Brazil        2004  TONNES  2.207067e+05\n",
              "65      Brazil        2005  TONNES  3.205013e+05\n",
              "66      Brazil        2006  TONNES  2.065405e+05\n",
              "67      Brazil        2007  TONNES  2.730766e+05\n",
              "68      Brazil        2008  TONNES  2.400817e+06\n",
              "69      Brazil        2009  TONNES  3.535823e+06\n",
              "70      Brazil        2010  TONNES  1.185840e+06\n",
              "71      Brazil        2011  TONNES  4.865437e+05\n",
              "72      Brazil        2012  TONNES  5.183253e+05\n",
              "73      Brazil        2013  TONNES  7.755628e+05\n",
              "74      Brazil        2014  TONNES  9.372830e+05\n",
              "75      Brazil        2015  TONNES  1.023470e+06"
            ]
          },
          "metadata": {},
          "execution_count": 11
        }
      ]
    },
    {
      "cell_type": "code",
      "metadata": {
        "colab": {
          "base_uri": "https://localhost:8080/",
          "height": 307
        },
        "id": "xsilrBr6ytf7",
        "outputId": "03caa48d-4c50-40f2-9290-6f5dfea50bab"
      },
      "source": [
        "y = reciclaveis_ton_br['Value']\n",
        "x = reciclaveis_ton_br['TimePeriod']\n",
        "\n",
        "plt.plot(x, y, c='green',label='Brasil')\n",
        "\n",
        "plt.xlabel(\"Date\")\n",
        "plt.ylabel(\"Toneladas\")\n",
        "plt.title('Peso lixo reciclado')\n",
        "plt.legend()\n",
        "plt.xticks(rotation=30)\n",
        "plt.show()"
      ],
      "execution_count": 12,
      "outputs": [
        {
          "output_type": "display_data",
          "data": {
            "image/png": "[encoded data removed]",
            "text/plain": [
              "<Figure size 432x288 with 1 Axes>"
            ]
          },
          "metadata": {
            "needs_background": "light"
          }
        }
      ]
    },
    {
      "cell_type": "markdown",
      "metadata": {
        "id": "rY8g4AjKytki"
      },
      "source": [
        "- Malaysia"
      ]
    },
    {
      "cell_type": "code",
      "metadata": {
        "colab": {
          "base_uri": "https://localhost:8080/",
          "height": 675
        },
        "id": "cnRVFavrytoT",
        "outputId": "42e7a431-97d2-46f7-966c-1db6f083d7c1"
      },
      "source": [
        "reciclaveis_ton_Malaysia = reciclaveis_ton[reciclaveis_ton['GeoAreaName'] == 'Malaysia']\n",
        "reciclaveis_ton_Malaysia"
      ],
      "execution_count": 13,
      "outputs": [
        {
          "output_type": "execute_result",
          "data": {
            "text/html": [
              "<div>\n",
              "<style scoped>\n",
              "    .dataframe tbody tr th:only-of-type {\n",
              "        vertical-align: middle;\n",
              "    }\n",
              "\n",
              "    .dataframe tbody tr th {\n",
              "        vertical-align: top;\n",
              "    }\n",
              "\n",
              "    .dataframe thead th {\n",
              "        text-align: right;\n",
              "    }\n",
              "</style>\n",
              "<table border=\"1\" class=\"dataframe\">\n",
              "  <thead>\n",
              "    <tr style=\"text-align: right;\">\n",
              "      <th></th>\n",
              "      <th>GeoAreaName</th>\n",
              "      <th>TimePeriod</th>\n",
              "      <th>Units</th>\n",
              "      <th>Value</th>\n",
              "    </tr>\n",
              "  </thead>\n",
              "  <tbody>\n",
              "    <tr>\n",
              "      <th>296</th>\n",
              "      <td>Malaysia</td>\n",
              "      <td>2000</td>\n",
              "      <td>TONNES</td>\n",
              "      <td>3.188619e+05</td>\n",
              "    </tr>\n",
              "    <tr>\n",
              "      <th>297</th>\n",
              "      <td>Malaysia</td>\n",
              "      <td>2001</td>\n",
              "      <td>TONNES</td>\n",
              "      <td>3.363253e+05</td>\n",
              "    </tr>\n",
              "    <tr>\n",
              "      <th>298</th>\n",
              "      <td>Malaysia</td>\n",
              "      <td>2002</td>\n",
              "      <td>TONNES</td>\n",
              "      <td>3.547450e+05</td>\n",
              "    </tr>\n",
              "    <tr>\n",
              "      <th>299</th>\n",
              "      <td>Malaysia</td>\n",
              "      <td>2003</td>\n",
              "      <td>TONNES</td>\n",
              "      <td>3.741736e+05</td>\n",
              "    </tr>\n",
              "    <tr>\n",
              "      <th>300</th>\n",
              "      <td>Malaysia</td>\n",
              "      <td>2004</td>\n",
              "      <td>TONNES</td>\n",
              "      <td>3.946662e+05</td>\n",
              "    </tr>\n",
              "    <tr>\n",
              "      <th>301</th>\n",
              "      <td>Malaysia</td>\n",
              "      <td>2005</td>\n",
              "      <td>TONNES</td>\n",
              "      <td>4.162811e+05</td>\n",
              "    </tr>\n",
              "    <tr>\n",
              "      <th>302</th>\n",
              "      <td>Malaysia</td>\n",
              "      <td>2006</td>\n",
              "      <td>TONNES</td>\n",
              "      <td>4.390798e+05</td>\n",
              "    </tr>\n",
              "    <tr>\n",
              "      <th>303</th>\n",
              "      <td>Malaysia</td>\n",
              "      <td>2007</td>\n",
              "      <td>TONNES</td>\n",
              "      <td>4.631272e+05</td>\n",
              "    </tr>\n",
              "    <tr>\n",
              "      <th>304</th>\n",
              "      <td>Malaysia</td>\n",
              "      <td>2008</td>\n",
              "      <td>TONNES</td>\n",
              "      <td>4.884916e+05</td>\n",
              "    </tr>\n",
              "    <tr>\n",
              "      <th>305</th>\n",
              "      <td>Malaysia</td>\n",
              "      <td>2009</td>\n",
              "      <td>TONNES</td>\n",
              "      <td>5.152451e+05</td>\n",
              "    </tr>\n",
              "    <tr>\n",
              "      <th>306</th>\n",
              "      <td>Malaysia</td>\n",
              "      <td>2010</td>\n",
              "      <td>TONNES</td>\n",
              "      <td>5.434639e+05</td>\n",
              "    </tr>\n",
              "    <tr>\n",
              "      <th>307</th>\n",
              "      <td>Malaysia</td>\n",
              "      <td>2011</td>\n",
              "      <td>TONNES</td>\n",
              "      <td>5.732281e+05</td>\n",
              "    </tr>\n",
              "    <tr>\n",
              "      <th>308</th>\n",
              "      <td>Malaysia</td>\n",
              "      <td>2012</td>\n",
              "      <td>TONNES</td>\n",
              "      <td>1.323240e+06</td>\n",
              "    </tr>\n",
              "    <tr>\n",
              "      <th>309</th>\n",
              "      <td>Malaysia</td>\n",
              "      <td>2013</td>\n",
              "      <td>TONNES</td>\n",
              "      <td>1.580590e+06</td>\n",
              "    </tr>\n",
              "    <tr>\n",
              "      <th>310</th>\n",
              "      <td>Malaysia</td>\n",
              "      <td>2014</td>\n",
              "      <td>TONNES</td>\n",
              "      <td>1.649074e+06</td>\n",
              "    </tr>\n",
              "    <tr>\n",
              "      <th>311</th>\n",
              "      <td>Malaysia</td>\n",
              "      <td>2015</td>\n",
              "      <td>TONNES</td>\n",
              "      <td>2.048168e+06</td>\n",
              "    </tr>\n",
              "    <tr>\n",
              "      <th>312</th>\n",
              "      <td>Malaysia</td>\n",
              "      <td>2016</td>\n",
              "      <td>TONNES</td>\n",
              "      <td>2.369781e+06</td>\n",
              "    </tr>\n",
              "    <tr>\n",
              "      <th>313</th>\n",
              "      <td>Malaysia</td>\n",
              "      <td>2017</td>\n",
              "      <td>TONNES</td>\n",
              "      <td>2.865071e+06</td>\n",
              "    </tr>\n",
              "    <tr>\n",
              "      <th>314</th>\n",
              "      <td>Malaysia</td>\n",
              "      <td>2018</td>\n",
              "      <td>TONNES</td>\n",
              "      <td>3.362328e+06</td>\n",
              "    </tr>\n",
              "    <tr>\n",
              "      <th>315</th>\n",
              "      <td>Malaysia</td>\n",
              "      <td>2019</td>\n",
              "      <td>TONNES</td>\n",
              "      <td>3.880732e+06</td>\n",
              "    </tr>\n",
              "  </tbody>\n",
              "</table>\n",
              "</div>"
            ],
            "text/plain": [
              "    GeoAreaName  TimePeriod   Units         Value\n",
              "296    Malaysia        2000  TONNES  3.188619e+05\n",
              "297    Malaysia        2001  TONNES  3.363253e+05\n",
              "298    Malaysia        2002  TONNES  3.547450e+05\n",
              "299    Malaysia        2003  TONNES  3.741736e+05\n",
              "300    Malaysia        2004  TONNES  3.946662e+05\n",
              "301    Malaysia        2005  TONNES  4.162811e+05\n",
              "302    Malaysia        2006  TONNES  4.390798e+05\n",
              "303    Malaysia        2007  TONNES  4.631272e+05\n",
              "304    Malaysia        2008  TONNES  4.884916e+05\n",
              "305    Malaysia        2009  TONNES  5.152451e+05\n",
              "306    Malaysia        2010  TONNES  5.434639e+05\n",
              "307    Malaysia        2011  TONNES  5.732281e+05\n",
              "308    Malaysia        2012  TONNES  1.323240e+06\n",
              "309    Malaysia        2013  TONNES  1.580590e+06\n",
              "310    Malaysia        2014  TONNES  1.649074e+06\n",
              "311    Malaysia        2015  TONNES  2.048168e+06\n",
              "312    Malaysia        2016  TONNES  2.369781e+06\n",
              "313    Malaysia        2017  TONNES  2.865071e+06\n",
              "314    Malaysia        2018  TONNES  3.362328e+06\n",
              "315    Malaysia        2019  TONNES  3.880732e+06"
            ]
          },
          "metadata": {},
          "execution_count": 13
        }
      ]
    },
    {
      "cell_type": "code",
      "metadata": {
        "colab": {
          "base_uri": "https://localhost:8080/",
          "height": 312
        },
        "id": "p5Jlz8Vxytry",
        "outputId": "6466c5a6-5ab9-4aac-d3f8-ecbad4b692b2"
      },
      "source": [
        "y = reciclaveis_ton_Malaysia['Value']\n",
        "x = reciclaveis_ton_Malaysia['TimePeriod']\n",
        "\n",
        "plt.plot(x, y, c='blue',label='Malaysia')\n",
        "\n",
        "plt.xlabel(\"Date\")\n",
        "plt.ylabel(\"Toneladas\")\n",
        "plt.title('Peso lixo reciclado')\n",
        "plt.legend()\n",
        "plt.xticks(rotation=30)\n",
        "plt.show()"
      ],
      "execution_count": 14,
      "outputs": [
        {
          "output_type": "display_data",
          "data": {
            "image/png": "[encoded data removed]",
            "text/plain": [
              "<Figure size 432x288 with 1 Axes>"
            ]
          },
          "metadata": {
            "needs_background": "light"
          }
        }
      ]
    },
    {
      "cell_type": "markdown",
      "metadata": {
        "id": "Q3O7Yw-gytvV"
      },
      "source": [
        "- Singapore"
      ]
    },
    {
      "cell_type": "code",
      "metadata": {
        "colab": {
          "base_uri": "https://localhost:8080/",
          "height": 675
        },
        "id": "xFFqDsSv6tnD",
        "outputId": "5b4548fe-8b42-43e7-fc5e-e7b2b3f0ab37"
      },
      "source": [
        "reciclaveis_ton_Singapore = reciclaveis_ton[reciclaveis_ton['GeoAreaName'] == 'Singapore']\n",
        "reciclaveis_ton_Singapore"
      ],
      "execution_count": 15,
      "outputs": [
        {
          "output_type": "execute_result",
          "data": {
            "text/html": [
              "<div>\n",
              "<style scoped>\n",
              "    .dataframe tbody tr th:only-of-type {\n",
              "        vertical-align: middle;\n",
              "    }\n",
              "\n",
              "    .dataframe tbody tr th {\n",
              "        vertical-align: top;\n",
              "    }\n",
              "\n",
              "    .dataframe thead th {\n",
              "        text-align: right;\n",
              "    }\n",
              "</style>\n",
              "<table border=\"1\" class=\"dataframe\">\n",
              "  <thead>\n",
              "    <tr style=\"text-align: right;\">\n",
              "      <th></th>\n",
              "      <th>GeoAreaName</th>\n",
              "      <th>TimePeriod</th>\n",
              "      <th>Units</th>\n",
              "      <th>Value</th>\n",
              "    </tr>\n",
              "  </thead>\n",
              "  <tbody>\n",
              "    <tr>\n",
              "      <th>413</th>\n",
              "      <td>Singapore</td>\n",
              "      <td>2000</td>\n",
              "      <td>TONNES</td>\n",
              "      <td>1.857300e+06</td>\n",
              "    </tr>\n",
              "    <tr>\n",
              "      <th>414</th>\n",
              "      <td>Singapore</td>\n",
              "      <td>2001</td>\n",
              "      <td>TONNES</td>\n",
              "      <td>2.233200e+06</td>\n",
              "    </tr>\n",
              "    <tr>\n",
              "      <th>415</th>\n",
              "      <td>Singapore</td>\n",
              "      <td>2002</td>\n",
              "      <td>TONNES</td>\n",
              "      <td>2.183400e+06</td>\n",
              "    </tr>\n",
              "    <tr>\n",
              "      <th>416</th>\n",
              "      <td>Singapore</td>\n",
              "      <td>2003</td>\n",
              "      <td>TONNES</td>\n",
              "      <td>2.223200e+06</td>\n",
              "    </tr>\n",
              "    <tr>\n",
              "      <th>417</th>\n",
              "      <td>Singapore</td>\n",
              "      <td>2004</td>\n",
              "      <td>TONNES</td>\n",
              "      <td>2.307100e+06</td>\n",
              "    </tr>\n",
              "    <tr>\n",
              "      <th>418</th>\n",
              "      <td>Singapore</td>\n",
              "      <td>2005</td>\n",
              "      <td>TONNES</td>\n",
              "      <td>2.469400e+06</td>\n",
              "    </tr>\n",
              "    <tr>\n",
              "      <th>419</th>\n",
              "      <td>Singapore</td>\n",
              "      <td>2006</td>\n",
              "      <td>TONNES</td>\n",
              "      <td>2.656900e+06</td>\n",
              "    </tr>\n",
              "    <tr>\n",
              "      <th>420</th>\n",
              "      <td>Singapore</td>\n",
              "      <td>2007</td>\n",
              "      <td>TONNES</td>\n",
              "      <td>2.980100e+06</td>\n",
              "    </tr>\n",
              "    <tr>\n",
              "      <th>421</th>\n",
              "      <td>Singapore</td>\n",
              "      <td>2008</td>\n",
              "      <td>TONNES</td>\n",
              "      <td>3.296100e+06</td>\n",
              "    </tr>\n",
              "    <tr>\n",
              "      <th>422</th>\n",
              "      <td>Singapore</td>\n",
              "      <td>2009</td>\n",
              "      <td>TONNES</td>\n",
              "      <td>3.446200e+06</td>\n",
              "    </tr>\n",
              "    <tr>\n",
              "      <th>423</th>\n",
              "      <td>Singapore</td>\n",
              "      <td>2010</td>\n",
              "      <td>TONNES</td>\n",
              "      <td>3.707000e+06</td>\n",
              "    </tr>\n",
              "    <tr>\n",
              "      <th>424</th>\n",
              "      <td>Singapore</td>\n",
              "      <td>2011</td>\n",
              "      <td>TONNES</td>\n",
              "      <td>3.999800e+06</td>\n",
              "    </tr>\n",
              "    <tr>\n",
              "      <th>425</th>\n",
              "      <td>Singapore</td>\n",
              "      <td>2012</td>\n",
              "      <td>TONNES</td>\n",
              "      <td>4.289800e+06</td>\n",
              "    </tr>\n",
              "    <tr>\n",
              "      <th>426</th>\n",
              "      <td>Singapore</td>\n",
              "      <td>2013</td>\n",
              "      <td>TONNES</td>\n",
              "      <td>4.825700e+06</td>\n",
              "    </tr>\n",
              "    <tr>\n",
              "      <th>427</th>\n",
              "      <td>Singapore</td>\n",
              "      <td>2014</td>\n",
              "      <td>TONNES</td>\n",
              "      <td>4.471300e+06</td>\n",
              "    </tr>\n",
              "    <tr>\n",
              "      <th>428</th>\n",
              "      <td>Singapore</td>\n",
              "      <td>2015</td>\n",
              "      <td>TONNES</td>\n",
              "      <td>4.649700e+06</td>\n",
              "    </tr>\n",
              "    <tr>\n",
              "      <th>429</th>\n",
              "      <td>Singapore</td>\n",
              "      <td>2016</td>\n",
              "      <td>TONNES</td>\n",
              "      <td>4.769000e+06</td>\n",
              "    </tr>\n",
              "    <tr>\n",
              "      <th>430</th>\n",
              "      <td>Singapore</td>\n",
              "      <td>2017</td>\n",
              "      <td>TONNES</td>\n",
              "      <td>4.724000e+06</td>\n",
              "    </tr>\n",
              "    <tr>\n",
              "      <th>431</th>\n",
              "      <td>Singapore</td>\n",
              "      <td>2018</td>\n",
              "      <td>TONNES</td>\n",
              "      <td>4.726000e+06</td>\n",
              "    </tr>\n",
              "    <tr>\n",
              "      <th>432</th>\n",
              "      <td>Singapore</td>\n",
              "      <td>2019</td>\n",
              "      <td>TONNES</td>\n",
              "      <td>4.247000e+06</td>\n",
              "    </tr>\n",
              "  </tbody>\n",
              "</table>\n",
              "</div>"
            ],
            "text/plain": [
              "    GeoAreaName  TimePeriod   Units         Value\n",
              "413   Singapore        2000  TONNES  1.857300e+06\n",
              "414   Singapore        2001  TONNES  2.233200e+06\n",
              "415   Singapore        2002  TONNES  2.183400e+06\n",
              "416   Singapore        2003  TONNES  2.223200e+06\n",
              "417   Singapore        2004  TONNES  2.307100e+06\n",
              "418   Singapore        2005  TONNES  2.469400e+06\n",
              "419   Singapore        2006  TONNES  2.656900e+06\n",
              "420   Singapore        2007  TONNES  2.980100e+06\n",
              "421   Singapore        2008  TONNES  3.296100e+06\n",
              "422   Singapore        2009  TONNES  3.446200e+06\n",
              "423   Singapore        2010  TONNES  3.707000e+06\n",
              "424   Singapore        2011  TONNES  3.999800e+06\n",
              "425   Singapore        2012  TONNES  4.289800e+06\n",
              "426   Singapore        2013  TONNES  4.825700e+06\n",
              "427   Singapore        2014  TONNES  4.471300e+06\n",
              "428   Singapore        2015  TONNES  4.649700e+06\n",
              "429   Singapore        2016  TONNES  4.769000e+06\n",
              "430   Singapore        2017  TONNES  4.724000e+06\n",
              "431   Singapore        2018  TONNES  4.726000e+06\n",
              "432   Singapore        2019  TONNES  4.247000e+06"
            ]
          },
          "metadata": {},
          "execution_count": 15
        }
      ]
    },
    {
      "cell_type": "code",
      "metadata": {
        "colab": {
          "base_uri": "https://localhost:8080/",
          "height": 312
        },
        "id": "dpyIiLYD6trY",
        "outputId": "5c5af810-5b55-45f5-ddd6-8b96b95cc1b3"
      },
      "source": [
        "y = reciclaveis_ton_Singapore['Value']\n",
        "x = reciclaveis_ton_Singapore['TimePeriod']\n",
        "\n",
        "plt.plot(x, y, c='gray',label='Singapore')\n",
        "\n",
        "plt.xlabel(\"Date\")\n",
        "plt.ylabel(\"Toneladas\")\n",
        "plt.title('Peso lixo reciclado')\n",
        "plt.legend()\n",
        "plt.xticks(rotation=30)\n",
        "plt.show()"
      ],
      "execution_count": 16,
      "outputs": [
        {
          "output_type": "display_data",
          "data": {
            "image/png": "[encoded data removed]",
            "text/plain": [
              "<Figure size 432x288 with 1 Axes>"
            ]
          },
          "metadata": {
            "needs_background": "light"
          }
        }
      ]
    },
    {
      "cell_type": "markdown",
      "metadata": {
        "id": "nxcipVHb6tvH"
      },
      "source": [
        "- China (agrupada)"
      ]
    },
    {
      "cell_type": "code",
      "metadata": {
        "colab": {
          "base_uri": "https://localhost:8080/",
          "height": 581
        },
        "id": "bn2m3O3k8cn-",
        "outputId": "9110925d-85ce-4ef8-8482-ac15343fc5ac"
      },
      "source": [
        "reciclaveis_ton_China = reciclaveis_ton[reciclaveis_ton['GeoAreaName'].isin(['China, Hong Kong Special Administrative Region', 'China, Macao Special Administrative Region '])]\n",
        "reciclaveis_ton_China_agrupada = reciclaveis_ton_China.groupby('TimePeriod').agg(Value = pd.NamedAgg('Value', 'sum'))\n",
        "reciclaveis_ton_China_agrupada"
      ],
      "execution_count": 17,
      "outputs": [
        {
          "output_type": "execute_result",
          "data": {
            "text/html": [
              "<div>\n",
              "<style scoped>\n",
              "    .dataframe tbody tr th:only-of-type {\n",
              "        vertical-align: middle;\n",
              "    }\n",
              "\n",
              "    .dataframe tbody tr th {\n",
              "        vertical-align: top;\n",
              "    }\n",
              "\n",
              "    .dataframe thead th {\n",
              "        text-align: right;\n",
              "    }\n",
              "</style>\n",
              "<table border=\"1\" class=\"dataframe\">\n",
              "  <thead>\n",
              "    <tr style=\"text-align: right;\">\n",
              "      <th></th>\n",
              "      <th>Value</th>\n",
              "    </tr>\n",
              "    <tr>\n",
              "      <th>TimePeriod</th>\n",
              "      <th></th>\n",
              "    </tr>\n",
              "  </thead>\n",
              "  <tbody>\n",
              "    <tr>\n",
              "      <th>2000</th>\n",
              "      <td>1758000.0</td>\n",
              "    </tr>\n",
              "    <tr>\n",
              "      <th>2001</th>\n",
              "      <td>1938000.0</td>\n",
              "    </tr>\n",
              "    <tr>\n",
              "      <th>2002</th>\n",
              "      <td>1959000.0</td>\n",
              "    </tr>\n",
              "    <tr>\n",
              "      <th>2003</th>\n",
              "      <td>2377000.0</td>\n",
              "    </tr>\n",
              "    <tr>\n",
              "      <th>2004</th>\n",
              "      <td>2305000.0</td>\n",
              "    </tr>\n",
              "    <tr>\n",
              "      <th>2005</th>\n",
              "      <td>2594000.0</td>\n",
              "    </tr>\n",
              "    <tr>\n",
              "      <th>2006</th>\n",
              "      <td>2841000.0</td>\n",
              "    </tr>\n",
              "    <tr>\n",
              "      <th>2007</th>\n",
              "      <td>2811000.0</td>\n",
              "    </tr>\n",
              "    <tr>\n",
              "      <th>2008</th>\n",
              "      <td>3143000.0</td>\n",
              "    </tr>\n",
              "    <tr>\n",
              "      <th>2009</th>\n",
              "      <td>3181000.0</td>\n",
              "    </tr>\n",
              "    <tr>\n",
              "      <th>2010</th>\n",
              "      <td>3603000.0</td>\n",
              "    </tr>\n",
              "    <tr>\n",
              "      <th>2011</th>\n",
              "      <td>3019000.0</td>\n",
              "    </tr>\n",
              "    <tr>\n",
              "      <th>2012</th>\n",
              "      <td>2163000.0</td>\n",
              "    </tr>\n",
              "    <tr>\n",
              "      <th>2013</th>\n",
              "      <td>2009000.0</td>\n",
              "    </tr>\n",
              "    <tr>\n",
              "      <th>2014</th>\n",
              "      <td>2053000.0</td>\n",
              "    </tr>\n",
              "    <tr>\n",
              "      <th>2015</th>\n",
              "      <td>2033000.0</td>\n",
              "    </tr>\n",
              "  </tbody>\n",
              "</table>\n",
              "</div>"
            ],
            "text/plain": [
              "                Value\n",
              "TimePeriod           \n",
              "2000        1758000.0\n",
              "2001        1938000.0\n",
              "2002        1959000.0\n",
              "2003        2377000.0\n",
              "2004        2305000.0\n",
              "2005        2594000.0\n",
              "2006        2841000.0\n",
              "2007        2811000.0\n",
              "2008        3143000.0\n",
              "2009        3181000.0\n",
              "2010        3603000.0\n",
              "2011        3019000.0\n",
              "2012        2163000.0\n",
              "2013        2009000.0\n",
              "2014        2053000.0\n",
              "2015        2033000.0"
            ]
          },
          "metadata": {},
          "execution_count": 17
        }
      ]
    },
    {
      "cell_type": "code",
      "metadata": {
        "id": "EYIZVBBB9sbB",
        "colab": {
          "base_uri": "https://localhost:8080/",
          "height": 307
        },
        "outputId": "8b38643e-900a-4ed0-dea0-d296cc068189"
      },
      "source": [
        "y = reciclaveis_ton_China['Value']\n",
        "x = reciclaveis_ton_China['TimePeriod']\n",
        "\n",
        "plt.plot(x, y, c='pink',label='China')\n",
        "\n",
        "plt.xlabel(\"Date\")\n",
        "plt.ylabel(\"Toneladas\")\n",
        "plt.title('Peso lixo reciclado')\n",
        "plt.legend()\n",
        "plt.xticks(rotation=30)\n",
        "plt.show()"
      ],
      "execution_count": 18,
      "outputs": [
        {
          "output_type": "display_data",
          "data": {
            "image/png": "[encoded data removed]",
            "text/plain": [
              "<Figure size 432x288 with 1 Axes>"
            ]
          },
          "metadata": {
            "needs_background": "light"
          }
        }
      ]
    },
    {
      "cell_type": "markdown",
      "metadata": {
        "id": "DVw_P5KL6tyU"
      },
      "source": [
        "- Ghana"
      ]
    },
    {
      "cell_type": "code",
      "metadata": {
        "colab": {
          "base_uri": "https://localhost:8080/",
          "height": 612
        },
        "id": "gDt-YkWV6t1d",
        "outputId": "190226aa-4038-4bbd-a66c-c6cfdd07da26"
      },
      "source": [
        "reciclaveis_ton_Ghana = reciclaveis_ton[reciclaveis_ton['GeoAreaName'] == 'Ghana']\n",
        "reciclaveis_ton_Ghana"
      ],
      "execution_count": 19,
      "outputs": [
        {
          "output_type": "execute_result",
          "data": {
            "text/html": [
              "<div>\n",
              "<style scoped>\n",
              "    .dataframe tbody tr th:only-of-type {\n",
              "        vertical-align: middle;\n",
              "    }\n",
              "\n",
              "    .dataframe tbody tr th {\n",
              "        vertical-align: top;\n",
              "    }\n",
              "\n",
              "    .dataframe thead th {\n",
              "        text-align: right;\n",
              "    }\n",
              "</style>\n",
              "<table border=\"1\" class=\"dataframe\">\n",
              "  <thead>\n",
              "    <tr style=\"text-align: right;\">\n",
              "      <th></th>\n",
              "      <th>GeoAreaName</th>\n",
              "      <th>TimePeriod</th>\n",
              "      <th>Units</th>\n",
              "      <th>Value</th>\n",
              "    </tr>\n",
              "  </thead>\n",
              "  <tbody>\n",
              "    <tr>\n",
              "      <th>167</th>\n",
              "      <td>Ghana</td>\n",
              "      <td>2000</td>\n",
              "      <td>TONNES</td>\n",
              "      <td>33133.96072</td>\n",
              "    </tr>\n",
              "    <tr>\n",
              "      <th>168</th>\n",
              "      <td>Ghana</td>\n",
              "      <td>2001</td>\n",
              "      <td>TONNES</td>\n",
              "      <td>34595.72220</td>\n",
              "    </tr>\n",
              "    <tr>\n",
              "      <th>169</th>\n",
              "      <td>Ghana</td>\n",
              "      <td>2002</td>\n",
              "      <td>TONNES</td>\n",
              "      <td>54168.39600</td>\n",
              "    </tr>\n",
              "    <tr>\n",
              "      <th>170</th>\n",
              "      <td>Ghana</td>\n",
              "      <td>2003</td>\n",
              "      <td>TONNES</td>\n",
              "      <td>55630.93948</td>\n",
              "    </tr>\n",
              "    <tr>\n",
              "      <th>171</th>\n",
              "      <td>Ghana</td>\n",
              "      <td>2004</td>\n",
              "      <td>TONNES</td>\n",
              "      <td>58054.47388</td>\n",
              "    </tr>\n",
              "    <tr>\n",
              "      <th>172</th>\n",
              "      <td>Ghana</td>\n",
              "      <td>2005</td>\n",
              "      <td>TONNES</td>\n",
              "      <td>68139.36615</td>\n",
              "    </tr>\n",
              "    <tr>\n",
              "      <th>173</th>\n",
              "      <td>Ghana</td>\n",
              "      <td>2006</td>\n",
              "      <td>TONNES</td>\n",
              "      <td>71072.55554</td>\n",
              "    </tr>\n",
              "    <tr>\n",
              "      <th>174</th>\n",
              "      <td>Ghana</td>\n",
              "      <td>2007</td>\n",
              "      <td>TONNES</td>\n",
              "      <td>77483.29926</td>\n",
              "    </tr>\n",
              "    <tr>\n",
              "      <th>175</th>\n",
              "      <td>Ghana</td>\n",
              "      <td>2008</td>\n",
              "      <td>TONNES</td>\n",
              "      <td>84188.40790</td>\n",
              "    </tr>\n",
              "    <tr>\n",
              "      <th>176</th>\n",
              "      <td>Ghana</td>\n",
              "      <td>2009</td>\n",
              "      <td>TONNES</td>\n",
              "      <td>90014.70947</td>\n",
              "    </tr>\n",
              "    <tr>\n",
              "      <th>177</th>\n",
              "      <td>Ghana</td>\n",
              "      <td>2010</td>\n",
              "      <td>TONNES</td>\n",
              "      <td>99392.19666</td>\n",
              "    </tr>\n",
              "    <tr>\n",
              "      <th>178</th>\n",
              "      <td>Ghana</td>\n",
              "      <td>2011</td>\n",
              "      <td>TONNES</td>\n",
              "      <td>169794.99817</td>\n",
              "    </tr>\n",
              "    <tr>\n",
              "      <th>179</th>\n",
              "      <td>Ghana</td>\n",
              "      <td>2012</td>\n",
              "      <td>TONNES</td>\n",
              "      <td>174039.87122</td>\n",
              "    </tr>\n",
              "    <tr>\n",
              "      <th>180</th>\n",
              "      <td>Ghana</td>\n",
              "      <td>2013</td>\n",
              "      <td>TONNES</td>\n",
              "      <td>178390.86914</td>\n",
              "    </tr>\n",
              "    <tr>\n",
              "      <th>181</th>\n",
              "      <td>Ghana</td>\n",
              "      <td>2014</td>\n",
              "      <td>TONNES</td>\n",
              "      <td>182850.64697</td>\n",
              "    </tr>\n",
              "    <tr>\n",
              "      <th>182</th>\n",
              "      <td>Ghana</td>\n",
              "      <td>2015</td>\n",
              "      <td>TONNES</td>\n",
              "      <td>195751.77002</td>\n",
              "    </tr>\n",
              "    <tr>\n",
              "      <th>183</th>\n",
              "      <td>Ghana</td>\n",
              "      <td>2016</td>\n",
              "      <td>TONNES</td>\n",
              "      <td>200645.56885</td>\n",
              "    </tr>\n",
              "    <tr>\n",
              "      <th>184</th>\n",
              "      <td>Ghana</td>\n",
              "      <td>2017</td>\n",
              "      <td>TONNES</td>\n",
              "      <td>205661.69739</td>\n",
              "    </tr>\n",
              "  </tbody>\n",
              "</table>\n",
              "</div>"
            ],
            "text/plain": [
              "    GeoAreaName  TimePeriod   Units         Value\n",
              "167       Ghana        2000  TONNES   33133.96072\n",
              "168       Ghana        2001  TONNES   34595.72220\n",
              "169       Ghana        2002  TONNES   54168.39600\n",
              "170       Ghana        2003  TONNES   55630.93948\n",
              "171       Ghana        2004  TONNES   58054.47388\n",
              "172       Ghana        2005  TONNES   68139.36615\n",
              "173       Ghana        2006  TONNES   71072.55554\n",
              "174       Ghana        2007  TONNES   77483.29926\n",
              "175       Ghana        2008  TONNES   84188.40790\n",
              "176       Ghana        2009  TONNES   90014.70947\n",
              "177       Ghana        2010  TONNES   99392.19666\n",
              "178       Ghana        2011  TONNES  169794.99817\n",
              "179       Ghana        2012  TONNES  174039.87122\n",
              "180       Ghana        2013  TONNES  178390.86914\n",
              "181       Ghana        2014  TONNES  182850.64697\n",
              "182       Ghana        2015  TONNES  195751.77002\n",
              "183       Ghana        2016  TONNES  200645.56885\n",
              "184       Ghana        2017  TONNES  205661.69739"
            ]
          },
          "metadata": {},
          "execution_count": 19
        }
      ]
    },
    {
      "cell_type": "code",
      "metadata": {
        "colab": {
          "base_uri": "https://localhost:8080/",
          "height": 312
        },
        "id": "oO11mL0hytyU",
        "outputId": "7c6ec89b-60f4-4763-d57e-f214c5d829c6"
      },
      "source": [
        "y = reciclaveis_ton_Ghana['Value']\n",
        "x = reciclaveis_ton_Ghana['TimePeriod']\n",
        "\n",
        "plt.plot(x, y, c='purple',label='Ghana')\n",
        "\n",
        "plt.xlabel(\"Date\")\n",
        "plt.ylabel(\"Toneladas\")\n",
        "plt.title('Peso lixo reciclado')\n",
        "plt.legend()\n",
        "plt.xticks(rotation=30)\n",
        "plt.show()"
      ],
      "execution_count": 20,
      "outputs": [
        {
          "output_type": "display_data",
          "data": {
            "image/png": "[encoded data removed]",
            "text/plain": [
              "<Figure size 432x288 with 1 Axes>"
            ]
          },
          "metadata": {
            "needs_background": "light"
          }
        }
      ]
    },
    {
      "cell_type": "markdown",
      "metadata": {
        "id": "o3enSLtt7yiB"
      },
      "source": [
        "- Gráfico comparação países (gráfico linhas)"
      ]
    },
    {
      "cell_type": "code",
      "metadata": {
        "colab": {
          "base_uri": "https://localhost:8080/",
          "height": 312
        },
        "id": "qWfposnJ7ymo",
        "outputId": "e4eaa21a-1561-4271-966f-b493e1a370c1"
      },
      "source": [
        "y_Ghana = reciclaveis_ton_Ghana['Value']\n",
        "x_Ghana = reciclaveis_ton_Ghana['TimePeriod']\n",
        "y_China = reciclaveis_ton_China['Value']\n",
        "x_China = reciclaveis_ton_China['TimePeriod']\n",
        "y_Singapore = reciclaveis_ton_Singapore['Value']\n",
        "x_Singapore = reciclaveis_ton_Singapore['TimePeriod']\n",
        "y_Malaysia = reciclaveis_ton_Malaysia['Value']\n",
        "x_Malaysia = reciclaveis_ton_Malaysia['TimePeriod']\n",
        "y_br = reciclaveis_ton_br['Value']\n",
        "x_br = reciclaveis_ton_br['TimePeriod']\n",
        "\n",
        "plt.plot(x_br, y_br, c='green',label='Brasil')\n",
        "plt.plot(x_Malaysia, y_Malaysia, c='blue',label='Malaysia')\n",
        "plt.plot(x_Singapore, y_Singapore, c='gray',label='Singapore')\n",
        "plt.plot(x_China, y_China, c='pink',label='China')\n",
        "plt.plot(x_Ghana, y_Ghana, c='purple',label='Ghana')\n",
        "\n",
        "plt.xlabel(\"Date\")\n",
        "plt.ylabel(\"Toneladas\")\n",
        "plt.title('Peso lixo reciclado')\n",
        "plt.legend()\n",
        "plt.xticks(rotation=30)\n",
        "plt.show()"
      ],
      "execution_count": 21,
      "outputs": [
        {
          "output_type": "display_data",
          "data": {
            "image/png": "[encoded data removed]",
            "text/plain": [
              "<Figure size 432x288 with 1 Axes>"
            ]
          },
          "metadata": {
            "needs_background": "light"
          }
        }
      ]
    },
    {
      "cell_type": "markdown",
      "metadata": {
        "id": "ubSwdn7A7yqZ"
      },
      "source": [
        "- Gráfico comparação países (gráfico barras)"
      ]
    },
    {
      "cell_type": "code",
      "metadata": {
        "colab": {
          "base_uri": "https://localhost:8080/",
          "height": 296
        },
        "id": "M8oN7nbjAMy4",
        "outputId": "87cf2d4c-35ee-4b73-b7d1-a7710b8e6293"
      },
      "source": [
        "paises = reciclaveis_ton[reciclaveis_ton['GeoAreaName'].isin(['Ghana', 'Singapore', 'Malaysia', 'Brazil', 'China, Hong Kong Special Administrative Region'])]\n",
        "paises_agrupados = paises.replace('China, Hong Kong Special Administrative Region', 'China', inplace= True)\n",
        "paises_agrupados = paises.groupby('GeoAreaName').agg(TotalValue = pd.NamedAgg('Value', 'sum')).reset_index()\n",
        "paises_agrupados"
      ],
      "execution_count": 22,
      "outputs": [
        {
          "output_type": "stream",
          "name": "stderr",
          "text": [
            "/usr/local/lib/python3.7/dist-packages/pandas/core/frame.py:4389: SettingWithCopyWarning: \n",
            "A value is trying to be set on a copy of a slice from a DataFrame\n",
            "\n",
            "See the caveats in the documentation: https://pandas.pydata.org/pandas-docs/stable/user_guide/indexing.html#returning-a-view-versus-a-copy\n",
            "  method=method,\n"
          ]
        },
        {
          "output_type": "execute_result",
          "data": {
            "text/html": [
              "<div>\n",
              "<style scoped>\n",
              "    .dataframe tbody tr th:only-of-type {\n",
              "        vertical-align: middle;\n",
              "    }\n",
              "\n",
              "    .dataframe tbody tr th {\n",
              "        vertical-align: top;\n",
              "    }\n",
              "\n",
              "    .dataframe thead th {\n",
              "        text-align: right;\n",
              "    }\n",
              "</style>\n",
              "<table border=\"1\" class=\"dataframe\">\n",
              "  <thead>\n",
              "    <tr style=\"text-align: right;\">\n",
              "      <th></th>\n",
              "      <th>GeoAreaName</th>\n",
              "      <th>TotalValue</th>\n",
              "    </tr>\n",
              "  </thead>\n",
              "  <tbody>\n",
              "    <tr>\n",
              "      <th>0</th>\n",
              "      <td>Brazil</td>\n",
              "      <td>1.188449e+07</td>\n",
              "    </tr>\n",
              "    <tr>\n",
              "      <th>1</th>\n",
              "      <td>China</td>\n",
              "      <td>3.978700e+07</td>\n",
              "    </tr>\n",
              "    <tr>\n",
              "      <th>2</th>\n",
              "      <td>Ghana</td>\n",
              "      <td>2.033009e+06</td>\n",
              "    </tr>\n",
              "    <tr>\n",
              "      <th>3</th>\n",
              "      <td>Malaysia</td>\n",
              "      <td>2.429667e+07</td>\n",
              "    </tr>\n",
              "    <tr>\n",
              "      <th>4</th>\n",
              "      <td>Singapore</td>\n",
              "      <td>7.006220e+07</td>\n",
              "    </tr>\n",
              "  </tbody>\n",
              "</table>\n",
              "</div>"
            ],
            "text/plain": [
              "  GeoAreaName    TotalValue\n",
              "0      Brazil  1.188449e+07\n",
              "1       China  3.978700e+07\n",
              "2       Ghana  2.033009e+06\n",
              "3    Malaysia  2.429667e+07\n",
              "4   Singapore  7.006220e+07"
            ]
          },
          "metadata": {},
          "execution_count": 22
        }
      ]
    },
    {
      "cell_type": "code",
      "metadata": {
        "colab": {
          "base_uri": "https://localhost:8080/",
          "height": 336
        },
        "id": "agOgHFGGAM2c",
        "outputId": "edbf5c39-50cc-4ff8-c293-1ed3e61aa1a9"
      },
      "source": [
        "ax = paises_agrupados.plot.bar(x = 'GeoAreaName', y = 'TotalValue', legend=None)\n",
        "plt.xlabel('Paises')\n",
        "plt.ylabel('Toneladas')\n",
        "plt.title('Total peso lixo reciclado')\n",
        "plt.xticks(rotation=90)\n",
        "plt.show()"
      ],
      "execution_count": 23,
      "outputs": [
        {
          "output_type": "display_data",
          "data": {
            "image/png": "[encoded data removed]",
            "text/plain": [
              "<Figure size 432x288 with 1 Axes>"
            ]
          },
          "metadata": {
            "needs_background": "light"
          }
        }
      ]
    },
    {
      "cell_type": "markdown",
      "metadata": {
        "id": "3RvoH7wJAM50"
      },
      "source": [
        "- Normal Reciclagem países"
      ]
    },
    {
      "cell_type": "markdown",
      "metadata": {
        "id": "LXJjjug6AM9A"
      },
      "source": [
        "### Comparação dos continetes\n"
      ]
    },
    {
      "cell_type": "code",
      "metadata": {
        "colab": {
          "base_uri": "https://localhost:8080/",
          "height": 422
        },
        "id": "1q4xYcbPcE60",
        "outputId": "9934b345-e377-4341-9d24-a115290fa5ed"
      },
      "source": [
        "reciclaveis_ton_continentes = dados_continente[dados_continente['Units'] == 'TONNES']\n",
        "reciclaveis_ton_continentes"
      ],
      "execution_count": 24,
      "outputs": [
        {
          "output_type": "execute_result",
          "data": {
            "text/html": [
              "<div>\n",
              "<style scoped>\n",
              "    .dataframe tbody tr th:only-of-type {\n",
              "        vertical-align: middle;\n",
              "    }\n",
              "\n",
              "    .dataframe tbody tr th {\n",
              "        vertical-align: top;\n",
              "    }\n",
              "\n",
              "    .dataframe thead th {\n",
              "        text-align: right;\n",
              "    }\n",
              "</style>\n",
              "<table border=\"1\" class=\"dataframe\">\n",
              "  <thead>\n",
              "    <tr style=\"text-align: right;\">\n",
              "      <th></th>\n",
              "      <th>GeoAreaName</th>\n",
              "      <th>TimePeriod</th>\n",
              "      <th>Units</th>\n",
              "      <th>Value</th>\n",
              "    </tr>\n",
              "  </thead>\n",
              "  <tbody>\n",
              "    <tr>\n",
              "      <th>0</th>\n",
              "      <td>World</td>\n",
              "      <td>2010</td>\n",
              "      <td>TONNES</td>\n",
              "      <td>5554063.00</td>\n",
              "    </tr>\n",
              "    <tr>\n",
              "      <th>1</th>\n",
              "      <td>World</td>\n",
              "      <td>2011</td>\n",
              "      <td>TONNES</td>\n",
              "      <td>5738041.75</td>\n",
              "    </tr>\n",
              "    <tr>\n",
              "      <th>2</th>\n",
              "      <td>World</td>\n",
              "      <td>2012</td>\n",
              "      <td>TONNES</td>\n",
              "      <td>5729046.80</td>\n",
              "    </tr>\n",
              "    <tr>\n",
              "      <th>3</th>\n",
              "      <td>World</td>\n",
              "      <td>2013</td>\n",
              "      <td>TONNES</td>\n",
              "      <td>7436168.86</td>\n",
              "    </tr>\n",
              "    <tr>\n",
              "      <th>4</th>\n",
              "      <td>World</td>\n",
              "      <td>2014</td>\n",
              "      <td>TONNES</td>\n",
              "      <td>7533753.17</td>\n",
              "    </tr>\n",
              "    <tr>\n",
              "      <th>...</th>\n",
              "      <td>...</td>\n",
              "      <td>...</td>\n",
              "      <td>...</td>\n",
              "      <td>...</td>\n",
              "    </tr>\n",
              "    <tr>\n",
              "      <th>186</th>\n",
              "      <td>Eastern and South-Eastern Asia</td>\n",
              "      <td>2015</td>\n",
              "      <td>TONNES</td>\n",
              "      <td>2152504.49</td>\n",
              "    </tr>\n",
              "    <tr>\n",
              "      <th>187</th>\n",
              "      <td>Eastern and South-Eastern Asia</td>\n",
              "      <td>2016</td>\n",
              "      <td>TONNES</td>\n",
              "      <td>2446800.18</td>\n",
              "    </tr>\n",
              "    <tr>\n",
              "      <th>188</th>\n",
              "      <td>Eastern and South-Eastern Asia</td>\n",
              "      <td>2017</td>\n",
              "      <td>TONNES</td>\n",
              "      <td>2565750.38</td>\n",
              "    </tr>\n",
              "    <tr>\n",
              "      <th>189</th>\n",
              "      <td>Eastern and South-Eastern Asia</td>\n",
              "      <td>2018</td>\n",
              "      <td>TONNES</td>\n",
              "      <td>2651050.21</td>\n",
              "    </tr>\n",
              "    <tr>\n",
              "      <th>190</th>\n",
              "      <td>Eastern and South-Eastern Asia</td>\n",
              "      <td>2019</td>\n",
              "      <td>TONNES</td>\n",
              "      <td>2755572.73</td>\n",
              "    </tr>\n",
              "  </tbody>\n",
              "</table>\n",
              "<p>191 rows × 4 columns</p>\n",
              "</div>"
            ],
            "text/plain": [
              "                        GeoAreaName  TimePeriod   Units       Value\n",
              "0                             World        2010  TONNES  5554063.00\n",
              "1                             World        2011  TONNES  5738041.75\n",
              "2                             World        2012  TONNES  5729046.80\n",
              "3                             World        2013  TONNES  7436168.86\n",
              "4                             World        2014  TONNES  7533753.17\n",
              "..                              ...         ...     ...         ...\n",
              "186  Eastern and South-Eastern Asia        2015  TONNES  2152504.49\n",
              "187  Eastern and South-Eastern Asia        2016  TONNES  2446800.18\n",
              "188  Eastern and South-Eastern Asia        2017  TONNES  2565750.38\n",
              "189  Eastern and South-Eastern Asia        2018  TONNES  2651050.21\n",
              "190  Eastern and South-Eastern Asia        2019  TONNES  2755572.73\n",
              "\n",
              "[191 rows x 4 columns]"
            ]
          },
          "metadata": {},
          "execution_count": 24
        }
      ]
    },
    {
      "cell_type": "markdown",
      "metadata": {
        "id": "x35xpNk0v1xC"
      },
      "source": [
        "- Mundo inteiro \n"
      ]
    },
    {
      "cell_type": "code",
      "metadata": {
        "id": "ashtWmuhQPmo",
        "colab": {
          "base_uri": "https://localhost:8080/",
          "height": 362
        },
        "outputId": "fd18fa75-3691-45c6-d81e-b7c539bf6730"
      },
      "source": [
        "reciclaveis_ton_world = reciclaveis_ton_continentes[reciclaveis_ton_continentes['GeoAreaName'] == 'World']\n",
        "reciclaveis_ton_world"
      ],
      "execution_count": 25,
      "outputs": [
        {
          "output_type": "execute_result",
          "data": {
            "text/html": [
              "<div>\n",
              "<style scoped>\n",
              "    .dataframe tbody tr th:only-of-type {\n",
              "        vertical-align: middle;\n",
              "    }\n",
              "\n",
              "    .dataframe tbody tr th {\n",
              "        vertical-align: top;\n",
              "    }\n",
              "\n",
              "    .dataframe thead th {\n",
              "        text-align: right;\n",
              "    }\n",
              "</style>\n",
              "<table border=\"1\" class=\"dataframe\">\n",
              "  <thead>\n",
              "    <tr style=\"text-align: right;\">\n",
              "      <th></th>\n",
              "      <th>GeoAreaName</th>\n",
              "      <th>TimePeriod</th>\n",
              "      <th>Units</th>\n",
              "      <th>Value</th>\n",
              "    </tr>\n",
              "  </thead>\n",
              "  <tbody>\n",
              "    <tr>\n",
              "      <th>0</th>\n",
              "      <td>World</td>\n",
              "      <td>2010</td>\n",
              "      <td>TONNES</td>\n",
              "      <td>5554063.00</td>\n",
              "    </tr>\n",
              "    <tr>\n",
              "      <th>1</th>\n",
              "      <td>World</td>\n",
              "      <td>2011</td>\n",
              "      <td>TONNES</td>\n",
              "      <td>5738041.75</td>\n",
              "    </tr>\n",
              "    <tr>\n",
              "      <th>2</th>\n",
              "      <td>World</td>\n",
              "      <td>2012</td>\n",
              "      <td>TONNES</td>\n",
              "      <td>5729046.80</td>\n",
              "    </tr>\n",
              "    <tr>\n",
              "      <th>3</th>\n",
              "      <td>World</td>\n",
              "      <td>2013</td>\n",
              "      <td>TONNES</td>\n",
              "      <td>7436168.86</td>\n",
              "    </tr>\n",
              "    <tr>\n",
              "      <th>4</th>\n",
              "      <td>World</td>\n",
              "      <td>2014</td>\n",
              "      <td>TONNES</td>\n",
              "      <td>7533753.17</td>\n",
              "    </tr>\n",
              "    <tr>\n",
              "      <th>5</th>\n",
              "      <td>World</td>\n",
              "      <td>2015</td>\n",
              "      <td>TONNES</td>\n",
              "      <td>8062395.98</td>\n",
              "    </tr>\n",
              "    <tr>\n",
              "      <th>6</th>\n",
              "      <td>World</td>\n",
              "      <td>2016</td>\n",
              "      <td>TONNES</td>\n",
              "      <td>8875938.19</td>\n",
              "    </tr>\n",
              "    <tr>\n",
              "      <th>7</th>\n",
              "      <td>World</td>\n",
              "      <td>2017</td>\n",
              "      <td>TONNES</td>\n",
              "      <td>9011045.40</td>\n",
              "    </tr>\n",
              "    <tr>\n",
              "      <th>8</th>\n",
              "      <td>World</td>\n",
              "      <td>2018</td>\n",
              "      <td>TONNES</td>\n",
              "      <td>9194734.15</td>\n",
              "    </tr>\n",
              "    <tr>\n",
              "      <th>9</th>\n",
              "      <td>World</td>\n",
              "      <td>2019</td>\n",
              "      <td>TONNES</td>\n",
              "      <td>9382133.36</td>\n",
              "    </tr>\n",
              "  </tbody>\n",
              "</table>\n",
              "</div>"
            ],
            "text/plain": [
              "  GeoAreaName  TimePeriod   Units       Value\n",
              "0       World        2010  TONNES  5554063.00\n",
              "1       World        2011  TONNES  5738041.75\n",
              "2       World        2012  TONNES  5729046.80\n",
              "3       World        2013  TONNES  7436168.86\n",
              "4       World        2014  TONNES  7533753.17\n",
              "5       World        2015  TONNES  8062395.98\n",
              "6       World        2016  TONNES  8875938.19\n",
              "7       World        2017  TONNES  9011045.40\n",
              "8       World        2018  TONNES  9194734.15\n",
              "9       World        2019  TONNES  9382133.36"
            ]
          },
          "metadata": {},
          "execution_count": 25
        }
      ]
    },
    {
      "cell_type": "code",
      "metadata": {
        "id": "Lf4psYYzQPqv",
        "colab": {
          "base_uri": "https://localhost:8080/",
          "height": 307
        },
        "outputId": "f5bee950-c3df-49fc-fef1-b5a173b339e9"
      },
      "source": [
        "y = reciclaveis_ton_world['Value']\n",
        "x = reciclaveis_ton_world['TimePeriod']\n",
        "\n",
        "plt.plot(x, y, c='r',label='Mundo')\n",
        "\n",
        "plt.xlabel(\"Date\")\n",
        "plt.ylabel(\"Toneladas\")\n",
        "plt.title('Peso lixo reciclado')\n",
        "plt.legend()\n",
        "plt.xticks(rotation=30)\n",
        "plt.show()"
      ],
      "execution_count": 26,
      "outputs": [
        {
          "output_type": "display_data",
          "data": {
            "image/png": "[encoded data removed]",
            "text/plain": [
              "<Figure size 432x288 with 1 Axes>"
            ]
          },
          "metadata": {
            "needs_background": "light"
          }
        }
      ]
    },
    {
      "cell_type": "markdown",
      "metadata": {
        "id": "cCVlNpWs4I3n"
      },
      "source": [
        "- América do Sul"
      ]
    },
    {
      "cell_type": "code",
      "metadata": {
        "colab": {
          "base_uri": "https://localhost:8080/",
          "height": 299
        },
        "id": "wlA5gTIm7yy3",
        "outputId": "8bd6e10e-4f4e-4a64-eb6d-d763c341bd8f"
      },
      "source": [
        "reciclaveis_ton_America_st = reciclaveis_ton_continentes[reciclaveis_ton_continentes['GeoAreaName'] == 'South America']\n",
        "reciclaveis_ton_America_st"
      ],
      "execution_count": 27,
      "outputs": [
        {
          "output_type": "execute_result",
          "data": {
            "text/html": [
              "<div>\n",
              "<style scoped>\n",
              "    .dataframe tbody tr th:only-of-type {\n",
              "        vertical-align: middle;\n",
              "    }\n",
              "\n",
              "    .dataframe tbody tr th {\n",
              "        vertical-align: top;\n",
              "    }\n",
              "\n",
              "    .dataframe thead th {\n",
              "        text-align: right;\n",
              "    }\n",
              "</style>\n",
              "<table border=\"1\" class=\"dataframe\">\n",
              "  <thead>\n",
              "    <tr style=\"text-align: right;\">\n",
              "      <th></th>\n",
              "      <th>GeoAreaName</th>\n",
              "      <th>TimePeriod</th>\n",
              "      <th>Units</th>\n",
              "      <th>Value</th>\n",
              "    </tr>\n",
              "  </thead>\n",
              "  <tbody>\n",
              "    <tr>\n",
              "      <th>10</th>\n",
              "      <td>South America</td>\n",
              "      <td>2012</td>\n",
              "      <td>TONNES</td>\n",
              "      <td>853.76</td>\n",
              "    </tr>\n",
              "    <tr>\n",
              "      <th>11</th>\n",
              "      <td>South America</td>\n",
              "      <td>2013</td>\n",
              "      <td>TONNES</td>\n",
              "      <td>12637.51</td>\n",
              "    </tr>\n",
              "    <tr>\n",
              "      <th>12</th>\n",
              "      <td>South America</td>\n",
              "      <td>2014</td>\n",
              "      <td>TONNES</td>\n",
              "      <td>14794.31</td>\n",
              "    </tr>\n",
              "    <tr>\n",
              "      <th>13</th>\n",
              "      <td>South America</td>\n",
              "      <td>2015</td>\n",
              "      <td>TONNES</td>\n",
              "      <td>23260.86</td>\n",
              "    </tr>\n",
              "    <tr>\n",
              "      <th>14</th>\n",
              "      <td>South America</td>\n",
              "      <td>2016</td>\n",
              "      <td>TONNES</td>\n",
              "      <td>17190.52</td>\n",
              "    </tr>\n",
              "    <tr>\n",
              "      <th>15</th>\n",
              "      <td>South America</td>\n",
              "      <td>2017</td>\n",
              "      <td>TONNES</td>\n",
              "      <td>24563.51</td>\n",
              "    </tr>\n",
              "    <tr>\n",
              "      <th>16</th>\n",
              "      <td>South America</td>\n",
              "      <td>2018</td>\n",
              "      <td>TONNES</td>\n",
              "      <td>24878.00</td>\n",
              "    </tr>\n",
              "    <tr>\n",
              "      <th>17</th>\n",
              "      <td>South America</td>\n",
              "      <td>2019</td>\n",
              "      <td>TONNES</td>\n",
              "      <td>25655.48</td>\n",
              "    </tr>\n",
              "  </tbody>\n",
              "</table>\n",
              "</div>"
            ],
            "text/plain": [
              "      GeoAreaName  TimePeriod   Units     Value\n",
              "10  South America        2012  TONNES    853.76\n",
              "11  South America        2013  TONNES  12637.51\n",
              "12  South America        2014  TONNES  14794.31\n",
              "13  South America        2015  TONNES  23260.86\n",
              "14  South America        2016  TONNES  17190.52\n",
              "15  South America        2017  TONNES  24563.51\n",
              "16  South America        2018  TONNES  24878.00\n",
              "17  South America        2019  TONNES  25655.48"
            ]
          },
          "metadata": {},
          "execution_count": 27
        }
      ]
    },
    {
      "cell_type": "code",
      "metadata": {
        "colab": {
          "base_uri": "https://localhost:8080/",
          "height": 307
        },
        "id": "tflka7hy6HRz",
        "outputId": "a8bd4ad2-b23c-4b05-f19e-1df5faf56b9d"
      },
      "source": [
        "y = reciclaveis_ton_America_st['Value']\n",
        "x = reciclaveis_ton_America_st['TimePeriod']\n",
        "\n",
        "plt.plot(x, y, c='gray',label='América do Sul')\n",
        "\n",
        "plt.xlabel(\"Date\")\n",
        "plt.ylabel(\"Toneladas\")\n",
        "plt.title('Peso lixo reciclado')\n",
        "plt.legend()\n",
        "plt.xticks(rotation=30)\n",
        "plt.show()"
      ],
      "execution_count": 28,
      "outputs": [
        {
          "output_type": "display_data",
          "data": {
            "image/png": "[encoded data removed]",
            "text/plain": [
              "<Figure size 432x288 with 1 Axes>"
            ]
          },
          "metadata": {
            "needs_background": "light"
          }
        }
      ]
    },
    {
      "cell_type": "markdown",
      "metadata": {
        "id": "AaHvb2vx4TZU"
      },
      "source": [
        "- América Central"
      ]
    },
    {
      "cell_type": "code",
      "metadata": {
        "colab": {
          "base_uri": "https://localhost:8080/",
          "height": 362
        },
        "id": "Ym2gWuQYGvwC",
        "outputId": "7e31083d-20bc-40b3-e236-dbb67b4d2641"
      },
      "source": [
        "reciclaveis_ton_America_ct = reciclaveis_ton_continentes[reciclaveis_ton_continentes['GeoAreaName'] == 'Central America']\n",
        "reciclaveis_ton_America_ct"
      ],
      "execution_count": 29,
      "outputs": [
        {
          "output_type": "execute_result",
          "data": {
            "text/html": [
              "<div>\n",
              "<style scoped>\n",
              "    .dataframe tbody tr th:only-of-type {\n",
              "        vertical-align: middle;\n",
              "    }\n",
              "\n",
              "    .dataframe tbody tr th {\n",
              "        vertical-align: top;\n",
              "    }\n",
              "\n",
              "    .dataframe thead th {\n",
              "        text-align: right;\n",
              "    }\n",
              "</style>\n",
              "<table border=\"1\" class=\"dataframe\">\n",
              "  <thead>\n",
              "    <tr style=\"text-align: right;\">\n",
              "      <th></th>\n",
              "      <th>GeoAreaName</th>\n",
              "      <th>TimePeriod</th>\n",
              "      <th>Units</th>\n",
              "      <th>Value</th>\n",
              "    </tr>\n",
              "  </thead>\n",
              "  <tbody>\n",
              "    <tr>\n",
              "      <th>26</th>\n",
              "      <td>Central America</td>\n",
              "      <td>2010</td>\n",
              "      <td>TONNES</td>\n",
              "      <td>30700.00</td>\n",
              "    </tr>\n",
              "    <tr>\n",
              "      <th>27</th>\n",
              "      <td>Central America</td>\n",
              "      <td>2011</td>\n",
              "      <td>TONNES</td>\n",
              "      <td>31900.00</td>\n",
              "    </tr>\n",
              "    <tr>\n",
              "      <th>28</th>\n",
              "      <td>Central America</td>\n",
              "      <td>2012</td>\n",
              "      <td>TONNES</td>\n",
              "      <td>33760.00</td>\n",
              "    </tr>\n",
              "    <tr>\n",
              "      <th>29</th>\n",
              "      <td>Central America</td>\n",
              "      <td>2013</td>\n",
              "      <td>TONNES</td>\n",
              "      <td>35096.11</td>\n",
              "    </tr>\n",
              "    <tr>\n",
              "      <th>30</th>\n",
              "      <td>Central America</td>\n",
              "      <td>2014</td>\n",
              "      <td>TONNES</td>\n",
              "      <td>36629.20</td>\n",
              "    </tr>\n",
              "    <tr>\n",
              "      <th>31</th>\n",
              "      <td>Central America</td>\n",
              "      <td>2015</td>\n",
              "      <td>TONNES</td>\n",
              "      <td>38135.95</td>\n",
              "    </tr>\n",
              "    <tr>\n",
              "      <th>32</th>\n",
              "      <td>Central America</td>\n",
              "      <td>2016</td>\n",
              "      <td>TONNES</td>\n",
              "      <td>39620.88</td>\n",
              "    </tr>\n",
              "    <tr>\n",
              "      <th>33</th>\n",
              "      <td>Central America</td>\n",
              "      <td>2017</td>\n",
              "      <td>TONNES</td>\n",
              "      <td>41042.66</td>\n",
              "    </tr>\n",
              "    <tr>\n",
              "      <th>34</th>\n",
              "      <td>Central America</td>\n",
              "      <td>2018</td>\n",
              "      <td>TONNES</td>\n",
              "      <td>42378.42</td>\n",
              "    </tr>\n",
              "    <tr>\n",
              "      <th>35</th>\n",
              "      <td>Central America</td>\n",
              "      <td>2019</td>\n",
              "      <td>TONNES</td>\n",
              "      <td>43703.80</td>\n",
              "    </tr>\n",
              "  </tbody>\n",
              "</table>\n",
              "</div>"
            ],
            "text/plain": [
              "        GeoAreaName  TimePeriod   Units     Value\n",
              "26  Central America        2010  TONNES  30700.00\n",
              "27  Central America        2011  TONNES  31900.00\n",
              "28  Central America        2012  TONNES  33760.00\n",
              "29  Central America        2013  TONNES  35096.11\n",
              "30  Central America        2014  TONNES  36629.20\n",
              "31  Central America        2015  TONNES  38135.95\n",
              "32  Central America        2016  TONNES  39620.88\n",
              "33  Central America        2017  TONNES  41042.66\n",
              "34  Central America        2018  TONNES  42378.42\n",
              "35  Central America        2019  TONNES  43703.80"
            ]
          },
          "metadata": {},
          "execution_count": 29
        }
      ]
    },
    {
      "cell_type": "code",
      "metadata": {
        "colab": {
          "base_uri": "https://localhost:8080/",
          "height": 307
        },
        "id": "x0r2OF3M6IIz",
        "outputId": "06d411ba-ed23-40cc-9f1e-611fbbb05769"
      },
      "source": [
        "y = reciclaveis_ton_America_ct['Value']\n",
        "x = reciclaveis_ton_America_ct['TimePeriod']\n",
        "\n",
        "plt.plot(x, y, c='blue',label='América Central')\n",
        "\n",
        "plt.xlabel(\"Date\")\n",
        "plt.ylabel(\"Toneladas\")\n",
        "plt.title('Peso lixo reciclado')\n",
        "plt.legend()\n",
        "plt.xticks(rotation=30)\n",
        "plt.show()"
      ],
      "execution_count": 30,
      "outputs": [
        {
          "output_type": "display_data",
          "data": {
            "image/png": "[encoded data removed]",
            "text/plain": [
              "<Figure size 432x288 with 1 Axes>"
            ]
          },
          "metadata": {
            "needs_background": "light"
          }
        }
      ]
    },
    {
      "cell_type": "markdown",
      "metadata": {
        "id": "GlD5KBzI4aCH"
      },
      "source": [
        "- Europa"
      ]
    },
    {
      "cell_type": "code",
      "metadata": {
        "id": "_jpOPbvJGgWb",
        "colab": {
          "base_uri": "https://localhost:8080/",
          "height": 362
        },
        "outputId": "cc91519f-9310-41c0-b68b-07a40d7753fa"
      },
      "source": [
        "reciclaveis_ton_Europe = reciclaveis_ton_continentes[reciclaveis_ton_continentes['GeoAreaName'] == 'Europe']\n",
        "reciclaveis_ton_Europe"
      ],
      "execution_count": 31,
      "outputs": [
        {
          "output_type": "execute_result",
          "data": {
            "text/html": [
              "<div>\n",
              "<style scoped>\n",
              "    .dataframe tbody tr th:only-of-type {\n",
              "        vertical-align: middle;\n",
              "    }\n",
              "\n",
              "    .dataframe tbody tr th {\n",
              "        vertical-align: top;\n",
              "    }\n",
              "\n",
              "    .dataframe thead th {\n",
              "        text-align: right;\n",
              "    }\n",
              "</style>\n",
              "<table border=\"1\" class=\"dataframe\">\n",
              "  <thead>\n",
              "    <tr style=\"text-align: right;\">\n",
              "      <th></th>\n",
              "      <th>GeoAreaName</th>\n",
              "      <th>TimePeriod</th>\n",
              "      <th>Units</th>\n",
              "      <th>Value</th>\n",
              "    </tr>\n",
              "  </thead>\n",
              "  <tbody>\n",
              "    <tr>\n",
              "      <th>101</th>\n",
              "      <td>Europe</td>\n",
              "      <td>2010</td>\n",
              "      <td>TONNES</td>\n",
              "      <td>3787304.00</td>\n",
              "    </tr>\n",
              "    <tr>\n",
              "      <th>102</th>\n",
              "      <td>Europe</td>\n",
              "      <td>2011</td>\n",
              "      <td>TONNES</td>\n",
              "      <td>3821305.00</td>\n",
              "    </tr>\n",
              "    <tr>\n",
              "      <th>103</th>\n",
              "      <td>Europe</td>\n",
              "      <td>2012</td>\n",
              "      <td>TONNES</td>\n",
              "      <td>3739788.00</td>\n",
              "    </tr>\n",
              "    <tr>\n",
              "      <th>104</th>\n",
              "      <td>Europe</td>\n",
              "      <td>2013</td>\n",
              "      <td>TONNES</td>\n",
              "      <td>3811689.16</td>\n",
              "    </tr>\n",
              "    <tr>\n",
              "      <th>105</th>\n",
              "      <td>Europe</td>\n",
              "      <td>2014</td>\n",
              "      <td>TONNES</td>\n",
              "      <td>3863534.62</td>\n",
              "    </tr>\n",
              "    <tr>\n",
              "      <th>106</th>\n",
              "      <td>Europe</td>\n",
              "      <td>2015</td>\n",
              "      <td>TONNES</td>\n",
              "      <td>4297649.94</td>\n",
              "    </tr>\n",
              "    <tr>\n",
              "      <th>107</th>\n",
              "      <td>Europe</td>\n",
              "      <td>2016</td>\n",
              "      <td>TONNES</td>\n",
              "      <td>4953894.70</td>\n",
              "    </tr>\n",
              "    <tr>\n",
              "      <th>108</th>\n",
              "      <td>Europe</td>\n",
              "      <td>2017</td>\n",
              "      <td>TONNES</td>\n",
              "      <td>4997854.07</td>\n",
              "    </tr>\n",
              "    <tr>\n",
              "      <th>109</th>\n",
              "      <td>Europe</td>\n",
              "      <td>2018</td>\n",
              "      <td>TONNES</td>\n",
              "      <td>5052173.79</td>\n",
              "    </tr>\n",
              "    <tr>\n",
              "      <th>110</th>\n",
              "      <td>Europe</td>\n",
              "      <td>2019</td>\n",
              "      <td>TONNES</td>\n",
              "      <td>5105840.45</td>\n",
              "    </tr>\n",
              "  </tbody>\n",
              "</table>\n",
              "</div>"
            ],
            "text/plain": [
              "    GeoAreaName  TimePeriod   Units       Value\n",
              "101      Europe        2010  TONNES  3787304.00\n",
              "102      Europe        2011  TONNES  3821305.00\n",
              "103      Europe        2012  TONNES  3739788.00\n",
              "104      Europe        2013  TONNES  3811689.16\n",
              "105      Europe        2014  TONNES  3863534.62\n",
              "106      Europe        2015  TONNES  4297649.94\n",
              "107      Europe        2016  TONNES  4953894.70\n",
              "108      Europe        2017  TONNES  4997854.07\n",
              "109      Europe        2018  TONNES  5052173.79\n",
              "110      Europe        2019  TONNES  5105840.45"
            ]
          },
          "metadata": {},
          "execution_count": 31
        }
      ]
    },
    {
      "cell_type": "code",
      "metadata": {
        "colab": {
          "base_uri": "https://localhost:8080/",
          "height": 307
        },
        "id": "vjnmpHnI6IwQ",
        "outputId": "04f25897-b9af-44b6-8a09-876abe1a7ca1"
      },
      "source": [
        "y = reciclaveis_ton_Europe['Value']\n",
        "x = reciclaveis_ton_Europe['TimePeriod']\n",
        "\n",
        "plt.plot(x, y, c='purple',label='Europa')\n",
        "\n",
        "plt.xlabel(\"Date\")\n",
        "plt.ylabel(\"Toneladas\")\n",
        "plt.title('Peso lixo reciclado')\n",
        "plt.legend()\n",
        "plt.xticks(rotation=30)\n",
        "plt.show()"
      ],
      "execution_count": 32,
      "outputs": [
        {
          "output_type": "display_data",
          "data": {
            "image/png": "[encoded data removed]",
            "text/plain": [
              "<Figure size 432x288 with 1 Axes>"
            ]
          },
          "metadata": {
            "needs_background": "light"
          }
        }
      ]
    },
    {
      "cell_type": "markdown",
      "metadata": {
        "id": "cUlmcdxK4gyk"
      },
      "source": [
        "- América do Norte"
      ]
    },
    {
      "cell_type": "code",
      "metadata": {
        "id": "Xb8oo8N3GgaQ",
        "colab": {
          "base_uri": "https://localhost:8080/",
          "height": 362
        },
        "outputId": "a2181efb-f49d-487a-a46c-459e8a175888"
      },
      "source": [
        "reciclaveis_ton_America_nt = reciclaveis_ton_continentes[reciclaveis_ton_continentes['GeoAreaName'] == 'Northern America']\n",
        "reciclaveis_ton_America_nt"
      ],
      "execution_count": 33,
      "outputs": [
        {
          "output_type": "execute_result",
          "data": {
            "text/html": [
              "<div>\n",
              "<style scoped>\n",
              "    .dataframe tbody tr th:only-of-type {\n",
              "        vertical-align: middle;\n",
              "    }\n",
              "\n",
              "    .dataframe tbody tr th {\n",
              "        vertical-align: top;\n",
              "    }\n",
              "\n",
              "    .dataframe thead th {\n",
              "        text-align: right;\n",
              "    }\n",
              "</style>\n",
              "<table border=\"1\" class=\"dataframe\">\n",
              "  <thead>\n",
              "    <tr style=\"text-align: right;\">\n",
              "      <th></th>\n",
              "      <th>GeoAreaName</th>\n",
              "      <th>TimePeriod</th>\n",
              "      <th>Units</th>\n",
              "      <th>Value</th>\n",
              "    </tr>\n",
              "  </thead>\n",
              "  <tbody>\n",
              "    <tr>\n",
              "      <th>51</th>\n",
              "      <td>Northern America</td>\n",
              "      <td>2010</td>\n",
              "      <td>TONNES</td>\n",
              "      <td>700100.00</td>\n",
              "    </tr>\n",
              "    <tr>\n",
              "      <th>52</th>\n",
              "      <td>Northern America</td>\n",
              "      <td>2011</td>\n",
              "      <td>TONNES</td>\n",
              "      <td>936463.75</td>\n",
              "    </tr>\n",
              "    <tr>\n",
              "      <th>53</th>\n",
              "      <td>Northern America</td>\n",
              "      <td>2012</td>\n",
              "      <td>TONNES</td>\n",
              "      <td>1070400.00</td>\n",
              "    </tr>\n",
              "    <tr>\n",
              "      <th>54</th>\n",
              "      <td>Northern America</td>\n",
              "      <td>2013</td>\n",
              "      <td>TONNES</td>\n",
              "      <td>1363579.68</td>\n",
              "    </tr>\n",
              "    <tr>\n",
              "      <th>55</th>\n",
              "      <td>Northern America</td>\n",
              "      <td>2014</td>\n",
              "      <td>TONNES</td>\n",
              "      <td>1483400.00</td>\n",
              "    </tr>\n",
              "    <tr>\n",
              "      <th>56</th>\n",
              "      <td>Northern America</td>\n",
              "      <td>2015</td>\n",
              "      <td>TONNES</td>\n",
              "      <td>1329287.00</td>\n",
              "    </tr>\n",
              "    <tr>\n",
              "      <th>57</th>\n",
              "      <td>Northern America</td>\n",
              "      <td>2016</td>\n",
              "      <td>TONNES</td>\n",
              "      <td>1171400.00</td>\n",
              "    </tr>\n",
              "    <tr>\n",
              "      <th>58</th>\n",
              "      <td>Northern America</td>\n",
              "      <td>2017</td>\n",
              "      <td>TONNES</td>\n",
              "      <td>1123353.43</td>\n",
              "    </tr>\n",
              "    <tr>\n",
              "      <th>59</th>\n",
              "      <td>Northern America</td>\n",
              "      <td>2018</td>\n",
              "      <td>TONNES</td>\n",
              "      <td>1139784.83</td>\n",
              "    </tr>\n",
              "    <tr>\n",
              "      <th>60</th>\n",
              "      <td>Northern America</td>\n",
              "      <td>2019</td>\n",
              "      <td>TONNES</td>\n",
              "      <td>1156845.57</td>\n",
              "    </tr>\n",
              "  </tbody>\n",
              "</table>\n",
              "</div>"
            ],
            "text/plain": [
              "         GeoAreaName  TimePeriod   Units       Value\n",
              "51  Northern America        2010  TONNES   700100.00\n",
              "52  Northern America        2011  TONNES   936463.75\n",
              "53  Northern America        2012  TONNES  1070400.00\n",
              "54  Northern America        2013  TONNES  1363579.68\n",
              "55  Northern America        2014  TONNES  1483400.00\n",
              "56  Northern America        2015  TONNES  1329287.00\n",
              "57  Northern America        2016  TONNES  1171400.00\n",
              "58  Northern America        2017  TONNES  1123353.43\n",
              "59  Northern America        2018  TONNES  1139784.83\n",
              "60  Northern America        2019  TONNES  1156845.57"
            ]
          },
          "metadata": {},
          "execution_count": 33
        }
      ]
    },
    {
      "cell_type": "code",
      "metadata": {
        "colab": {
          "base_uri": "https://localhost:8080/",
          "height": 307
        },
        "id": "SpvKaL8a6JWo",
        "outputId": "71ca4479-a523-446e-bf5d-40dad2f45f57"
      },
      "source": [
        "y = reciclaveis_ton_America_nt['Value']\n",
        "x = reciclaveis_ton_America_nt['TimePeriod']\n",
        "\n",
        "plt.plot(x, y, c='green',label='América do Norte')\n",
        "\n",
        "plt.xlabel(\"Date\")\n",
        "plt.ylabel(\"Toneladas\")\n",
        "plt.title('Peso lixo reciclado')\n",
        "plt.legend()\n",
        "plt.xticks(rotation=30)\n",
        "plt.show()"
      ],
      "execution_count": 34,
      "outputs": [
        {
          "output_type": "display_data",
          "data": {
            "image/png": "[encoded data removed]",
            "text/plain": [
              "<Figure size 432x288 with 1 Axes>"
            ]
          },
          "metadata": {
            "needs_background": "light"
          }
        }
      ]
    },
    {
      "cell_type": "markdown",
      "metadata": {
        "id": "hBfj15wH4m1N"
      },
      "source": [
        "- Ásia"
      ]
    },
    {
      "cell_type": "code",
      "metadata": {
        "colab": {
          "base_uri": "https://localhost:8080/",
          "height": 268
        },
        "id": "mLHAS-MX2kx-",
        "outputId": "90d26f89-ca2f-4617-d924-93bebc4bc01f"
      },
      "source": [
        "reciclaveis_ton_Asia = reciclaveis_ton_continentes[reciclaveis_ton_continentes['GeoAreaName'] == 'Asia']\n",
        "reciclaveis_ton_Asia"
      ],
      "execution_count": 35,
      "outputs": [
        {
          "output_type": "execute_result",
          "data": {
            "text/html": [
              "<div>\n",
              "<style scoped>\n",
              "    .dataframe tbody tr th:only-of-type {\n",
              "        vertical-align: middle;\n",
              "    }\n",
              "\n",
              "    .dataframe tbody tr th {\n",
              "        vertical-align: top;\n",
              "    }\n",
              "\n",
              "    .dataframe thead th {\n",
              "        text-align: right;\n",
              "    }\n",
              "</style>\n",
              "<table border=\"1\" class=\"dataframe\">\n",
              "  <thead>\n",
              "    <tr style=\"text-align: right;\">\n",
              "      <th></th>\n",
              "      <th>GeoAreaName</th>\n",
              "      <th>TimePeriod</th>\n",
              "      <th>Units</th>\n",
              "      <th>Value</th>\n",
              "    </tr>\n",
              "  </thead>\n",
              "  <tbody>\n",
              "    <tr>\n",
              "      <th>94</th>\n",
              "      <td>Asia</td>\n",
              "      <td>2013</td>\n",
              "      <td>TONNES</td>\n",
              "      <td>2024083.00</td>\n",
              "    </tr>\n",
              "    <tr>\n",
              "      <th>95</th>\n",
              "      <td>Asia</td>\n",
              "      <td>2014</td>\n",
              "      <td>TONNES</td>\n",
              "      <td>1950565.86</td>\n",
              "    </tr>\n",
              "    <tr>\n",
              "      <th>96</th>\n",
              "      <td>Asia</td>\n",
              "      <td>2015</td>\n",
              "      <td>TONNES</td>\n",
              "      <td>2153860.66</td>\n",
              "    </tr>\n",
              "    <tr>\n",
              "      <th>97</th>\n",
              "      <td>Asia</td>\n",
              "      <td>2016</td>\n",
              "      <td>TONNES</td>\n",
              "      <td>2452989.12</td>\n",
              "    </tr>\n",
              "    <tr>\n",
              "      <th>98</th>\n",
              "      <td>Asia</td>\n",
              "      <td>2017</td>\n",
              "      <td>TONNES</td>\n",
              "      <td>2588260.63</td>\n",
              "    </tr>\n",
              "    <tr>\n",
              "      <th>99</th>\n",
              "      <td>Asia</td>\n",
              "      <td>2018</td>\n",
              "      <td>TONNES</td>\n",
              "      <td>2678729.66</td>\n",
              "    </tr>\n",
              "    <tr>\n",
              "      <th>100</th>\n",
              "      <td>Asia</td>\n",
              "      <td>2019</td>\n",
              "      <td>TONNES</td>\n",
              "      <td>2790098.82</td>\n",
              "    </tr>\n",
              "  </tbody>\n",
              "</table>\n",
              "</div>"
            ],
            "text/plain": [
              "    GeoAreaName  TimePeriod   Units       Value\n",
              "94         Asia        2013  TONNES  2024083.00\n",
              "95         Asia        2014  TONNES  1950565.86\n",
              "96         Asia        2015  TONNES  2153860.66\n",
              "97         Asia        2016  TONNES  2452989.12\n",
              "98         Asia        2017  TONNES  2588260.63\n",
              "99         Asia        2018  TONNES  2678729.66\n",
              "100        Asia        2019  TONNES  2790098.82"
            ]
          },
          "metadata": {},
          "execution_count": 35
        }
      ]
    },
    {
      "cell_type": "code",
      "metadata": {
        "colab": {
          "base_uri": "https://localhost:8080/",
          "height": 307
        },
        "id": "gTBy0U3H6KAi",
        "outputId": "ebfa7f81-8834-4d29-9f2d-f33551372729"
      },
      "source": [
        "y = reciclaveis_ton_Asia['Value']\n",
        "x = reciclaveis_ton_Asia['TimePeriod']\n",
        "\n",
        "plt.plot(x, y, c='green',label='Ásia')\n",
        "\n",
        "plt.xlabel(\"Date\")\n",
        "plt.ylabel(\"Toneladas\")\n",
        "plt.title('Peso lixo reciclado')\n",
        "plt.legend()\n",
        "plt.xticks(rotation=30)\n",
        "plt.show()"
      ],
      "execution_count": 36,
      "outputs": [
        {
          "output_type": "display_data",
          "data": {
            "image/png": "[encoded data removed]",
            "text/plain": [
              "<Figure size 432x288 with 1 Axes>"
            ]
          },
          "metadata": {
            "needs_background": "light"
          }
        }
      ]
    },
    {
      "cell_type": "markdown",
      "metadata": {
        "id": "GMEZzfUc4skf"
      },
      "source": [
        "- África"
      ]
    },
    {
      "cell_type": "code",
      "metadata": {
        "id": "qDbbcxQcGgdh",
        "colab": {
          "base_uri": "https://localhost:8080/",
          "height": 362
        },
        "outputId": "df64fe67-e3ec-4968-e53f-bb56064a5af9"
      },
      "source": [
        "reciclaveis_ton_Africa = reciclaveis_ton_continentes[reciclaveis_ton_continentes['GeoAreaName'].isin(['Northern Africa and Western Asia', 'Southern Africa', 'Sub-Saharan Africa'])]\n",
        "reciclaveis_ton_Africa = reciclaveis_ton_Africa.groupby('TimePeriod').agg(Value = pd.NamedAgg('Value', 'sum')).reset_index()\n",
        "reciclaveis_ton_Africa"
      ],
      "execution_count": 37,
      "outputs": [
        {
          "output_type": "execute_result",
          "data": {
            "text/html": [
              "<div>\n",
              "<style scoped>\n",
              "    .dataframe tbody tr th:only-of-type {\n",
              "        vertical-align: middle;\n",
              "    }\n",
              "\n",
              "    .dataframe tbody tr th {\n",
              "        vertical-align: top;\n",
              "    }\n",
              "\n",
              "    .dataframe thead th {\n",
              "        text-align: right;\n",
              "    }\n",
              "</style>\n",
              "<table border=\"1\" class=\"dataframe\">\n",
              "  <thead>\n",
              "    <tr style=\"text-align: right;\">\n",
              "      <th></th>\n",
              "      <th>TimePeriod</th>\n",
              "      <th>Value</th>\n",
              "    </tr>\n",
              "  </thead>\n",
              "  <tbody>\n",
              "    <tr>\n",
              "      <th>0</th>\n",
              "      <td>2010</td>\n",
              "      <td>5379.00</td>\n",
              "    </tr>\n",
              "    <tr>\n",
              "      <th>1</th>\n",
              "      <td>2011</td>\n",
              "      <td>9365.00</td>\n",
              "    </tr>\n",
              "    <tr>\n",
              "      <th>2</th>\n",
              "      <td>2012</td>\n",
              "      <td>9878.61</td>\n",
              "    </tr>\n",
              "    <tr>\n",
              "      <th>3</th>\n",
              "      <td>2013</td>\n",
              "      <td>9968.59</td>\n",
              "    </tr>\n",
              "    <tr>\n",
              "      <th>4</th>\n",
              "      <td>2014</td>\n",
              "      <td>10403.69</td>\n",
              "    </tr>\n",
              "    <tr>\n",
              "      <th>5</th>\n",
              "      <td>2015</td>\n",
              "      <td>179778.94</td>\n",
              "    </tr>\n",
              "    <tr>\n",
              "      <th>6</th>\n",
              "      <td>2016</td>\n",
              "      <td>216838.31</td>\n",
              "    </tr>\n",
              "    <tr>\n",
              "      <th>7</th>\n",
              "      <td>2017</td>\n",
              "      <td>209847.34</td>\n",
              "    </tr>\n",
              "    <tr>\n",
              "      <th>8</th>\n",
              "      <td>2018</td>\n",
              "      <td>276246.81</td>\n",
              "    </tr>\n",
              "    <tr>\n",
              "      <th>9</th>\n",
              "      <td>2019</td>\n",
              "      <td>286451.61</td>\n",
              "    </tr>\n",
              "  </tbody>\n",
              "</table>\n",
              "</div>"
            ],
            "text/plain": [
              "   TimePeriod      Value\n",
              "0        2010    5379.00\n",
              "1        2011    9365.00\n",
              "2        2012    9878.61\n",
              "3        2013    9968.59\n",
              "4        2014   10403.69\n",
              "5        2015  179778.94\n",
              "6        2016  216838.31\n",
              "7        2017  209847.34\n",
              "8        2018  276246.81\n",
              "9        2019  286451.61"
            ]
          },
          "metadata": {},
          "execution_count": 37
        }
      ]
    },
    {
      "cell_type": "code",
      "metadata": {
        "colab": {
          "base_uri": "https://localhost:8080/",
          "height": 307
        },
        "id": "A8VziRQq6Kp8",
        "outputId": "08a5018e-0aeb-4354-b302-80c5912c62ce"
      },
      "source": [
        "y = reciclaveis_ton_Africa['Value']\n",
        "x = reciclaveis_ton_Africa['TimePeriod']\n",
        "\n",
        "plt.plot(x, y, c='orange',label='África')\n",
        "\n",
        "plt.xlabel(\"Date\")\n",
        "plt.ylabel(\"Toneladas\")\n",
        "plt.title('Peso lixo reciclado')\n",
        "plt.legend()\n",
        "plt.xticks(rotation=30)\n",
        "plt.show()"
      ],
      "execution_count": 38,
      "outputs": [
        {
          "output_type": "display_data",
          "data": {
            "image/png": "[encoded data removed]",
            "text/plain": [
              "<Figure size 432x288 with 1 Axes>"
            ]
          },
          "metadata": {
            "needs_background": "light"
          }
        }
      ]
    },
    {
      "cell_type": "markdown",
      "metadata": {
        "id": "6T75Eyc74v47"
      },
      "source": [
        "- Oceania"
      ]
    },
    {
      "cell_type": "code",
      "metadata": {
        "id": "yZX_wExXGgg-",
        "colab": {
          "base_uri": "https://localhost:8080/",
          "height": 299
        },
        "outputId": "3b65b54e-171d-433b-dd35-bb0b168b8bae"
      },
      "source": [
        "reciclaveis_ton_Oceania = reciclaveis_ton_continentes[reciclaveis_ton_continentes['GeoAreaName'] == 'Australia and New Zealand']\n",
        "reciclaveis_ton_Oceania"
      ],
      "execution_count": 39,
      "outputs": [
        {
          "output_type": "execute_result",
          "data": {
            "text/html": [
              "<div>\n",
              "<style scoped>\n",
              "    .dataframe tbody tr th:only-of-type {\n",
              "        vertical-align: middle;\n",
              "    }\n",
              "\n",
              "    .dataframe tbody tr th {\n",
              "        vertical-align: top;\n",
              "    }\n",
              "\n",
              "    .dataframe thead th {\n",
              "        text-align: right;\n",
              "    }\n",
              "</style>\n",
              "<table border=\"1\" class=\"dataframe\">\n",
              "  <thead>\n",
              "    <tr style=\"text-align: right;\">\n",
              "      <th></th>\n",
              "      <th>GeoAreaName</th>\n",
              "      <th>TimePeriod</th>\n",
              "      <th>Units</th>\n",
              "      <th>Value</th>\n",
              "    </tr>\n",
              "  </thead>\n",
              "  <tbody>\n",
              "    <tr>\n",
              "      <th>82</th>\n",
              "      <td>Australia and New Zealand</td>\n",
              "      <td>2012</td>\n",
              "      <td>TONNES</td>\n",
              "      <td>41000.00</td>\n",
              "    </tr>\n",
              "    <tr>\n",
              "      <th>83</th>\n",
              "      <td>Australia and New Zealand</td>\n",
              "      <td>2013</td>\n",
              "      <td>TONNES</td>\n",
              "      <td>50209.80</td>\n",
              "    </tr>\n",
              "    <tr>\n",
              "      <th>84</th>\n",
              "      <td>Australia and New Zealand</td>\n",
              "      <td>2014</td>\n",
              "      <td>TONNES</td>\n",
              "      <td>43000.00</td>\n",
              "    </tr>\n",
              "    <tr>\n",
              "      <th>85</th>\n",
              "      <td>Australia and New Zealand</td>\n",
              "      <td>2015</td>\n",
              "      <td>TONNES</td>\n",
              "      <td>54054.81</td>\n",
              "    </tr>\n",
              "    <tr>\n",
              "      <th>86</th>\n",
              "      <td>Australia and New Zealand</td>\n",
              "      <td>2016</td>\n",
              "      <td>TONNES</td>\n",
              "      <td>55520.14</td>\n",
              "    </tr>\n",
              "    <tr>\n",
              "      <th>87</th>\n",
              "      <td>Australia and New Zealand</td>\n",
              "      <td>2017</td>\n",
              "      <td>TONNES</td>\n",
              "      <td>56642.27</td>\n",
              "    </tr>\n",
              "    <tr>\n",
              "      <th>88</th>\n",
              "      <td>Australia and New Zealand</td>\n",
              "      <td>2018</td>\n",
              "      <td>TONNES</td>\n",
              "      <td>57650.00</td>\n",
              "    </tr>\n",
              "    <tr>\n",
              "      <th>89</th>\n",
              "      <td>Australia and New Zealand</td>\n",
              "      <td>2019</td>\n",
              "      <td>TONNES</td>\n",
              "      <td>58808.31</td>\n",
              "    </tr>\n",
              "  </tbody>\n",
              "</table>\n",
              "</div>"
            ],
            "text/plain": [
              "                  GeoAreaName  TimePeriod   Units     Value\n",
              "82  Australia and New Zealand        2012  TONNES  41000.00\n",
              "83  Australia and New Zealand        2013  TONNES  50209.80\n",
              "84  Australia and New Zealand        2014  TONNES  43000.00\n",
              "85  Australia and New Zealand        2015  TONNES  54054.81\n",
              "86  Australia and New Zealand        2016  TONNES  55520.14\n",
              "87  Australia and New Zealand        2017  TONNES  56642.27\n",
              "88  Australia and New Zealand        2018  TONNES  57650.00\n",
              "89  Australia and New Zealand        2019  TONNES  58808.31"
            ]
          },
          "metadata": {},
          "execution_count": 39
        }
      ]
    },
    {
      "cell_type": "code",
      "metadata": {
        "colab": {
          "base_uri": "https://localhost:8080/",
          "height": 307
        },
        "id": "EHEZBiYo6Lie",
        "outputId": "e7fc881f-691d-4ffd-c730-bc9a03e5c137"
      },
      "source": [
        "y = reciclaveis_ton_Oceania['Value']\n",
        "x = reciclaveis_ton_Oceania['TimePeriod']\n",
        "\n",
        "plt.plot(x, y, c='black',label='Oceania')\n",
        "\n",
        "plt.xlabel(\"Date\")\n",
        "plt.ylabel(\"Toneladas\")\n",
        "plt.title('Peso lixo reciclado')\n",
        "plt.legend()\n",
        "plt.xticks(rotation=30)\n",
        "plt.show()"
      ],
      "execution_count": 40,
      "outputs": [
        {
          "output_type": "display_data",
          "data": {
            "image/png": "[encoded data removed]",
            "text/plain": [
              "<Figure size 432x288 with 1 Axes>"
            ]
          },
          "metadata": {
            "needs_background": "light"
          }
        }
      ]
    },
    {
      "cell_type": "markdown",
      "metadata": {
        "id": "inEATrrXGgkn"
      },
      "source": [
        "- Gráfico comparação continentes (grásico de linhas)"
      ]
    },
    {
      "cell_type": "code",
      "metadata": {
        "colab": {
          "base_uri": "https://localhost:8080/",
          "height": 307
        },
        "id": "1RPzQRC448kc",
        "outputId": "5f7814a9-fdb5-4881-8d0b-548c81ecc287"
      },
      "source": [
        "y_America_st = reciclaveis_ton_America_st['Value']\n",
        "x_America_st = reciclaveis_ton_America_st['TimePeriod']\n",
        "y_America_ct = reciclaveis_ton_America_ct['Value']\n",
        "x_America_ct = reciclaveis_ton_America_ct['TimePeriod']\n",
        "y_America_nt = reciclaveis_ton_America_nt['Value']\n",
        "x_America_nt = reciclaveis_ton_America_nt['TimePeriod']\n",
        "y_Europe = reciclaveis_ton_Europe['Value']\n",
        "x_Europe = reciclaveis_ton_Europe['TimePeriod']\n",
        "y_Asia = reciclaveis_ton_Asia['Value']\n",
        "x_Asia = reciclaveis_ton_Asia['TimePeriod']\n",
        "y_Africa = reciclaveis_ton_Africa['Value']\n",
        "x_Africa = reciclaveis_ton_Africa['TimePeriod']\n",
        "y_Oceania = reciclaveis_ton_Oceania['Value']\n",
        "x_Oceania = reciclaveis_ton_Oceania['TimePeriod']\n",
        "\n",
        "plt.plot(x_America_st, y_America_st, c='green',label='América do Sul')\n",
        "plt.plot(x_America_ct, y_America_ct, c='pink',label='América Central')\n",
        "plt.plot(x_America_nt, y_America_nt, c='yellow',label='América do Norte')\n",
        "plt.plot(x_Europe, y_Europe, c='blue',label='Europa')\n",
        "plt.plot(x_Asia, y_Asia, c='red',label='Ásia')\n",
        "plt.plot(x_Africa, y_Africa, c='grey',label='África')\n",
        "plt.plot(x_Oceania, y_Oceania, c='purple',label='Oceania')\n",
        "\n",
        "\n",
        "plt.xlabel(\"Date\")\n",
        "plt.ylabel(\"Toneladas\")\n",
        "plt.title('Peso lixo reciclado')\n",
        "plt.legend()\n",
        "plt.xticks(rotation=30)\n",
        "plt.show()"
      ],
      "execution_count": 41,
      "outputs": [
        {
          "output_type": "display_data",
          "data": {
            "image/png": "[encoded data removed]",
            "text/plain": [
              "<Figure size 432x288 with 1 Axes>"
            ]
          },
          "metadata": {
            "needs_background": "light"
          }
        }
      ]
    },
    {
      "cell_type": "markdown",
      "metadata": {
        "id": "UJALgCm_48oy"
      },
      "source": [
        "- Gráfico comparação continentes (grásico de linhas)"
      ]
    },
    {
      "cell_type": "code",
      "metadata": {
        "colab": {
          "base_uri": "https://localhost:8080/",
          "height": 390
        },
        "id": "ZJGI4QUc48s9",
        "outputId": "66e4a323-a6bd-42b4-9f5c-51fe6426773f"
      },
      "source": [
        "continetes = reciclaveis_ton_continentes[reciclaveis_ton_continentes['GeoAreaName'].isin(['Central America', 'South America', 'Asia', 'Europe', 'Australia and New Zealand', 'Northern Africa and Western Asia', 'World', 'Northern America'])]\n",
        "continetes_agrupados = continetes.replace('Australia and New Zealand', 'Oceania', inplace= True)\n",
        "continetes_agrupados = continetes.replace('Northern Africa and Western Asia', 'África', inplace= True)\n",
        "continetes_agrupados = continetes.replace('Northern America', 'América do Norte', inplace= True)\n",
        "continetes_agrupados = continetes.groupby('GeoAreaName').agg(TotalValue = pd.NamedAgg('Value', 'sum')).reset_index()\n",
        "continetes_agrupados"
      ],
      "execution_count": 51,
      "outputs": [
        {
          "output_type": "stream",
          "name": "stderr",
          "text": [
            "/usr/local/lib/python3.7/dist-packages/pandas/core/frame.py:4389: SettingWithCopyWarning: \n",
            "A value is trying to be set on a copy of a slice from a DataFrame\n",
            "\n",
            "See the caveats in the documentation: https://pandas.pydata.org/pandas-docs/stable/user_guide/indexing.html#returning-a-view-versus-a-copy\n",
            "  method=method,\n"
          ]
        },
        {
          "output_type": "execute_result",
          "data": {
            "text/html": [
              "<div>\n",
              "<style scoped>\n",
              "    .dataframe tbody tr th:only-of-type {\n",
              "        vertical-align: middle;\n",
              "    }\n",
              "\n",
              "    .dataframe tbody tr th {\n",
              "        vertical-align: top;\n",
              "    }\n",
              "\n",
              "    .dataframe thead th {\n",
              "        text-align: right;\n",
              "    }\n",
              "</style>\n",
              "<table border=\"1\" class=\"dataframe\">\n",
              "  <thead>\n",
              "    <tr style=\"text-align: right;\">\n",
              "      <th></th>\n",
              "      <th>GeoAreaName</th>\n",
              "      <th>TotalValue</th>\n",
              "    </tr>\n",
              "  </thead>\n",
              "  <tbody>\n",
              "    <tr>\n",
              "      <th>0</th>\n",
              "      <td>América do Norte</td>\n",
              "      <td>11474614.26</td>\n",
              "    </tr>\n",
              "    <tr>\n",
              "      <th>1</th>\n",
              "      <td>Asia</td>\n",
              "      <td>16638587.75</td>\n",
              "    </tr>\n",
              "    <tr>\n",
              "      <th>2</th>\n",
              "      <td>Central America</td>\n",
              "      <td>372967.02</td>\n",
              "    </tr>\n",
              "    <tr>\n",
              "      <th>3</th>\n",
              "      <td>Europe</td>\n",
              "      <td>43431033.73</td>\n",
              "    </tr>\n",
              "    <tr>\n",
              "      <th>4</th>\n",
              "      <td>Oceania</td>\n",
              "      <td>416885.33</td>\n",
              "    </tr>\n",
              "    <tr>\n",
              "      <th>5</th>\n",
              "      <td>South America</td>\n",
              "      <td>143833.95</td>\n",
              "    </tr>\n",
              "    <tr>\n",
              "      <th>6</th>\n",
              "      <td>World</td>\n",
              "      <td>76517320.66</td>\n",
              "    </tr>\n",
              "    <tr>\n",
              "      <th>7</th>\n",
              "      <td>África</td>\n",
              "      <td>720045.76</td>\n",
              "    </tr>\n",
              "  </tbody>\n",
              "</table>\n",
              "</div>"
            ],
            "text/plain": [
              "        GeoAreaName   TotalValue\n",
              "0  América do Norte  11474614.26\n",
              "1              Asia  16638587.75\n",
              "2   Central America    372967.02\n",
              "3            Europe  43431033.73\n",
              "4           Oceania    416885.33\n",
              "5     South America    143833.95\n",
              "6             World  76517320.66\n",
              "7            África    720045.76"
            ]
          },
          "metadata": {},
          "execution_count": 51
        }
      ]
    },
    {
      "cell_type": "code",
      "metadata": {
        "colab": {
          "base_uri": "https://localhost:8080/",
          "height": 373
        },
        "id": "ONc-h1oy48xW",
        "outputId": "4d382072-3f64-432b-ea07-0811741c85f7"
      },
      "source": [
        "cx = continetes_agrupados.plot.bar(x = 'GeoAreaName', y = 'TotalValue', legend=None)\n",
        "plt.xlabel('Paises')\n",
        "plt.ylabel('Toneladas')\n",
        "plt.title('Total peso lixo reciclado')\n",
        "plt.xticks(rotation=90)\n",
        "plt.show()"
      ],
      "execution_count": 52,
      "outputs": [
        {
          "output_type": "display_data",
          "data": {
            "image/png": "[encoded data removed]",
            "text/plain": [
              "<Figure size 432x288 with 1 Axes>"
            ]
          },
          "metadata": {
            "needs_background": "light"
          }
        }
      ]
    }
  ]
}