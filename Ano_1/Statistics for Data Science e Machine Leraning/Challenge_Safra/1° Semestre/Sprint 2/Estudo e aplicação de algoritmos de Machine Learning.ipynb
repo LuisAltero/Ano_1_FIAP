{
  "nbformat": 4,
  "nbformat_minor": 0,
  "metadata": {
    "colab": {
      "name": "Untitled5.ipynb",
      "provenance": []
    },
    "kernelspec": {
      "name": "python3",
      "display_name": "Python 3"
    },
    "language_info": {
      "name": "python"
    }
  },
  "cells": [
    {
      "cell_type": "markdown",
      "metadata": {
        "id": "xjD_i1YKhaCN"
      },
      "source": [
        "\n",
        "# Bruno Biancchi – RM 84351\n",
        "# Douglas Andrade Santos Filho - 87004\n",
        "# Luis Henrique Caldas Altero – RM 88670\n",
        "# Pedro Guilherme Polloni Barreto - RM 88964\n",
        "# Victor Lamprecht Di Roberto – RM 86691"
      ]
    },
    {
      "cell_type": "markdown",
      "metadata": {
        "id": "ZFsg4JlUXaXH"
      },
      "source": [
        "# Instalar a biblioteca Speech Recognition no Colab\n",
        " "
      ]
    },
    {
      "cell_type": "code",
      "metadata": {
        "colab": {
          "base_uri": "https://localhost:8080/"
        },
        "id": "wU5Cax8pSM5S",
        "outputId": "9b5e8a99-24f4-4d60-9b1f-fa79edd5df07"
      },
      "source": [
        "!pip install SpeechRecognition"
      ],
      "execution_count": 20,
      "outputs": [
        {
          "output_type": "stream",
          "text": [
            "Collecting SpeechRecognition\n",
            "\u001b[?25l  Downloading https://files.pythonhosted.org/packages/26/e1/7f5678cd94ec1234269d23756dbdaa4c8cfaed973412f88ae8adf7893a50/SpeechRecognition-3.8.1-py2.py3-none-any.whl (32.8MB)\n",
            "\u001b[K     |████████████████████████████████| 32.8MB 126kB/s \n",
            "\u001b[?25hInstalling collected packages: SpeechRecognition\n",
            "Successfully installed SpeechRecognition-3.8.1\n"
          ],
          "name": "stdout"
        }
      ]
    },
    {
      "cell_type": "markdown",
      "metadata": {
        "id": "KSFRbKLFRA32"
      },
      "source": [
        "# Áudio salvo no sample_data em formato .wav como informado pelo Banco Safra\n"
      ]
    },
    {
      "cell_type": "code",
      "metadata": {
        "colab": {
          "base_uri": "https://localhost:8080/"
        },
        "id": "wArvIpoKQ227",
        "outputId": "61ec40af-4002-4720-bd13-ae2d0afbdb80"
      },
      "source": [
        "import speech_recognition as sr\n",
        "r = sr.Recognizer()\n",
        "with sr.AudioFile('/content/sample_data/testewav.wav') as source:\n",
        "\n",
        "    audio = r.listen(source)\n",
        "    try:\n",
        "        text = r.recognize_google(audio,language='pt-BR')\n",
        "        print('**** Convertendo...****')\n",
        "        print(text)\n",
        "    except:\n",
        "        print('Não foi possivel fazer a converção! Tente novamente!')"
      ],
      "execution_count": 22,
      "outputs": [
        {
          "output_type": "stream",
          "text": [
            "**** Convertendo...****\n",
            "testando audio som\n"
          ],
          "name": "stdout"
        }
      ]
    }
  ]
}